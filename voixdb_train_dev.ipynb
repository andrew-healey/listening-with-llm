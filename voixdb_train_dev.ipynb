{
 "cells": [
  {
   "cell_type": "code",
   "execution_count": 1,
   "id": "9d8e3fea",
   "metadata": {},
   "outputs": [],
   "source": [
    "%load_ext autoreload\n",
    "%autoreload 2\n"
   ]
  },
  {
   "cell_type": "code",
   "execution_count": 2,
   "id": "d430240f",
   "metadata": {},
   "outputs": [],
   "source": [
    "import torch\n",
    "import numpy as np\n",
    "from pprint import pprint\n",
    "import pathlib as pl\n",
    "import torchaudio\n",
    "import whisper\n",
    "import torch.nn as nn\n",
    "\n",
    "import matplotlib.pyplot as plt\n",
    "from IPython.display import Audio\n",
    "\n",
    "from transformers import AutoModelForCausalLM, AutoTokenizer\n",
    "from transformers import (\n",
    "    LlamaTokenizer,\n",
    "    MistralConfig,\n",
    "    MistralForCausalLM,\n",
    ")\n",
    "import torch\n",
    "from torch.utils.data import DataLoader\n",
    "import pathlib as pl\n",
    "\n",
    "from transformers import AutoTokenizer, AutoModelForCausalLM, BitsAndBytesConfig, GenerationConfig\n",
    "\n",
    "import torch\n",
    "torch.backends.cuda.matmul.allow_tf32 = True\n",
    "\n",
    "from src2.voixdb import util\n",
    "from src2.voixdb.util import *\n",
    "from src2.voixdb.dataset.music_caps import (\n",
    "    MusicCapsDataset,\n",
    "    load_csv,\n",
    ")\n",
    "from src2.voixdb.model import Model, TunableWhisperAudioEncoder, load_llm\n",
    "from src2.voixdb.train import Trainer\n",
    "from src2.voixdb.train_cfg import TrainerCfg\n"
   ]
  },
  {
   "cell_type": "code",
   "execution_count": 3,
   "id": "ade0a0f4",
   "metadata": {},
   "outputs": [],
   "source": [
    "# !pip install datasets"
   ]
  },
  {
   "cell_type": "code",
   "execution_count": 4,
   "id": "7157f074",
   "metadata": {},
   "outputs": [],
   "source": [
    "# import whisper\n",
    "\n",
    "# import torch\n",
    "# from transformers import AutoModelForSpeechSeq2Seq, AutoProcessor, pipeline\n",
    "# from datasets import load_dataset\n",
    "\n",
    "\n",
    "# device = \"cuda:0\" if torch.cuda.is_available() else \"cpu\"\n",
    "# torch_dtype = torch.float16 if torch.cuda.is_available() else torch.float32\n",
    "\n",
    "# model_id = \"openai/whisper-large-v3\"\n",
    "\n",
    "# model = AutoModelForSpeechSeq2Seq.from_pretrained(\n",
    "#     model_id, torch_dtype=torch_dtype, low_cpu_mem_usage=True, use_safetensors=True\n",
    "# )\n",
    "# model.to(device)"
   ]
  },
  {
   "cell_type": "code",
   "execution_count": 5,
   "id": "98048b7e",
   "metadata": {},
   "outputs": [],
   "source": [
    "# from tqdm import tqdm\n",
    "# with torch.no_grad():\n",
    "#     with torch.amp.autocast(device_type=\"cuda\",dtype=torch.float16):\n",
    "#             [audio_encoder(util.load_audio_mels(entry[\"file\"]).cuda()).cpu() for entry in tqdm(train_entries)]"
   ]
  },
  {
   "cell_type": "code",
   "execution_count": 6,
   "id": "9ec7d1f3",
   "metadata": {},
   "outputs": [],
   "source": [
    "import numpy as np\n",
    "import random\n",
    "import os\n",
    "import torch\n",
    "\n",
    "# Set seed for everything\n",
    "seed = 1337\n",
    "random.seed(seed)\n",
    "np.random.seed(seed)\n",
    "os.environ['PYTHONHASHSEED'] = str(seed)\n",
    "torch.manual_seed(seed)\n",
    "torch.cuda.manual_seed(seed)\n",
    "# torch.cuda.manual_seed_all(seed) # if you are using multi-GPU.\n",
    "torch.backends.cudnn.deterministic = True\n",
    "torch.backends.cudnn.benchmark = False\n"
   ]
  },
  {
   "cell_type": "code",
   "execution_count": 7,
   "id": "c48f25d2-c543-4243-ac4c-d750dd1f027d",
   "metadata": {},
   "outputs": [
    {
     "name": "stderr",
     "output_type": "stream",
     "text": [
      "Special tokens have been added in the vocabulary, make sure the associated word embeddings are fine-tuned or trained.\n"
     ]
    },
    {
     "name": "stdout",
     "output_type": "stream",
     "text": [
      "loading from pretrained\n"
     ]
    },
    {
     "name": "stderr",
     "output_type": "stream",
     "text": [
      "Error during conversion: ValueError('Queue is full! Please try again.')\n"
     ]
    },
    {
     "data": {
      "application/vnd.jupyter.widget-view+json": {
       "model_id": "e3df939f3e2e4c19b9f9baac7b5e4923",
       "version_major": 2,
       "version_minor": 0
      },
      "text/plain": [
       "Downloading shards:   0%|          | 0/2 [00:00<?, ?it/s]"
      ]
     },
     "metadata": {},
     "output_type": "display_data"
    },
    {
     "data": {
      "application/vnd.jupyter.widget-view+json": {
       "model_id": "762947b38bf043cb8cf48b93d06597da",
       "version_major": 2,
       "version_minor": 0
      },
      "text/plain": [
       "Loading checkpoint shards:   0%|          | 0/2 [00:00<?, ?it/s]"
      ]
     },
     "metadata": {},
     "output_type": "display_data"
    },
    {
     "name": "stdout",
     "output_type": "stream",
     "text": [
      "loaded from pretrained\n",
      "Total parameters: 4430823040\n",
      "Trainable parameters: 37748736\n",
      "Fraction of parameters that are trainable: 0.85%\n"
     ]
    }
   ],
   "source": [
    "# Access the values of the arguments\n",
    "tr_cfg = TrainerCfg(\n",
    "    epoch=1,\n",
    "    model_save_freq=1,\n",
    "    device=\"cuda:0\",\n",
    "    model_out_dir=\"/root/out-model\",\n",
    ")\n",
    "\n",
    "stage = \"peft\" # vs. \"peft\"\n",
    "use_lora_projection = False # should the projection be a lora or a full rank matrix?\n",
    "lr_default = 1e-4#0.5e-4\n",
    "bs = 1\n",
    "\n",
    "run_num = 13\n",
    "\n",
    "\n",
    "class DummyEncoder(nn.Module):\n",
    "    a=1\n",
    "whisper_encoder = None#DummyEncoder() # set to None to auto-load it.\n",
    "\n",
    "audio_encoder = TunableWhisperAudioEncoder(audio_encoder=whisper_encoder,use_lora=use_lora_projection) # it's not None, but I don't wanna load a heavy encoder\n",
    "# audio_encoder.proj.load_state_dict(torch.load(\"../listening-with-llm-3/model_manual_save3.pth\"),strict=False)\n",
    "if stage == \"peft\":\n",
    "    audio_encoder.proj.load_state_dict(torch.load(\"model_best_save6.pth\"),strict=False)\n",
    "    for param in audio_encoder.proj.parameters():\n",
    "        param.requires_grad = False\n",
    "        pass\n",
    "\n",
    "audio_encoder.to(tr_cfg.device)\n",
    "\n",
    "tokenizer,llm = load_llm()\n",
    "model = Model(audio_encoder.to(torch.bfloat16), llm)\n",
    "\n",
    "from peft import get_peft_model, prepare_model_for_int8_training,LoraConfig\n",
    "if stage == \"peft\":\n",
    "\n",
    "    # PEFT config\n",
    "    lora_alpha = 32\n",
    "    lora_dropout = 0.1\n",
    "    lora_r = 16\n",
    "    peft_config = LoraConfig(\n",
    "        lora_alpha=lora_alpha,\n",
    "        lora_dropout=lora_dropout,\n",
    "        r=lora_r,\n",
    "        bias=\"none\",\n",
    "        task_type=\"CAUSAL_LM\",\n",
    "        target_modules=[\"k_proj\", \"q_proj\", \"v_proj\", \"up_proj\", \"down_proj\", \"gate_proj\"]\n",
    "    )\n",
    "    model.llm = get_peft_model(model.llm, peft_config)\n",
    "\n",
    "# print fraction of trainable params\n",
    "total_params = sum(p.numel() for p in model.parameters())\n",
    "trainable_params = sum(p.numel() for p in model.parameters() if p.requires_grad)\n",
    "fraction_trainable = trainable_params / total_params\n",
    "print(f\"Total parameters: {total_params}\")\n",
    "print(f\"Trainable parameters: {trainable_params}\")\n",
    "print(f\"Fraction of parameters that are trainable: {fraction_trainable:.2%}\")\n",
    "\n",
    "entries = load_csv(load_raw=False)\n",
    "train_size = int(len(entries) * 0.95)\n",
    "train_entries = entries[:train_size]\n",
    "eval_entries = entries[train_size:]\n",
    "\n",
    "max_length = 400\n",
    "\n",
    "embed_tokens = llm.model.embed_tokens\n",
    "torch.save(embed_tokens.state_dict(),\"embed.pt\")\n",
    "raw_embedding = nn.Embedding(embed_tokens.num_embeddings,embed_tokens.embedding_dim)\n",
    "raw_embedding.load_state_dict(embed_tokens.state_dict())\n",
    "raw_embedding.cpu()\n",
    "\n",
    "eval_ds = MusicCapsDataset(eval_entries, tokenizer, util.prompt_template_fn,audio_encoder.audio_encoder,raw_embedding,max_length,key=\"eval-audio\")\n",
    "eval_dl = DataLoader(eval_ds, batch_size=bs, shuffle=True, num_workers=6)\n",
    "\n",
    "train_ds = MusicCapsDataset(train_entries, tokenizer, util.prompt_template_fn,audio_encoder.audio_encoder,raw_embedding,max_length,key=\"train-audio\")\n",
    "train_dl = DataLoader(train_ds, batch_size=bs, shuffle=True, num_workers=12)\n",
    "\n"
   ]
  },
  {
   "cell_type": "code",
   "execution_count": 8,
   "id": "590e3053",
   "metadata": {},
   "outputs": [],
   "source": [
    "# import numpy as np\n",
    "# import matplotlib.pyplot as plt\n",
    "# counts, bins = np.histogram(list(train_ds.raw_sizes))\n",
    "# plt.stairs(counts, bins)"
   ]
  },
  {
   "cell_type": "code",
   "execution_count": 9,
   "id": "c7801968",
   "metadata": {},
   "outputs": [],
   "source": [
    "# row = train_ds[0]\n",
    "# row['input_embeds_raw'][:,0]"
   ]
  },
  {
   "cell_type": "code",
   "execution_count": 10,
   "id": "1ccfd520-685a-47ba-b767-01f494ce3906",
   "metadata": {},
   "outputs": [
    {
     "name": "stdout",
     "output_type": "stream",
     "text": [
      "OK Counter({torch.bfloat16: 493, torch.float32: 384, torch.uint8: 224, torch.float16: 67})\n"
     ]
    }
   ],
   "source": [
    "# verify model weight\n",
    "from collections import Counter\n",
    "pbytype = Counter()\n",
    "for name, p in (model.named_parameters()):\n",
    "    if torch.isinf(p).any() or torch.isnan(p).any():\n",
    "        print(name, p)\n",
    "        raise ValueError(\"invalid weight\")\n",
    "    else:\n",
    "        pbytype[p.dtype] += 1\n",
    "print(\"OK\", pbytype)"
   ]
  },
  {
   "cell_type": "code",
   "execution_count": 11,
   "id": "161e5e67-0bf5-41f5-895a-ba7410b4ee44",
   "metadata": {},
   "outputs": [],
   "source": [
    "# means = []\n",
    "# stds = []\n",
    "# norms = []\n",
    "# for name, p in (model.audio_encoder.audio_encoder.named_parameters()):\n",
    "#     if p.dim() == 2:\n",
    "#         print(p.dtype)\n",
    "#         print(p.max().item(), p.min().item())\n",
    "\n",
    "#         means.append(p.mean().item())\n",
    "#         stds.append(p.std().item())\n",
    "#         norms.append(torch.linalg.norm(p.to(torch.float).cpu().detach()))\n",
    "        \n",
    "# plt.hist(means, bins=100, color='blue', alpha=0.7)"
   ]
  },
  {
   "cell_type": "code",
   "execution_count": 12,
   "id": "6b78b8b8-b91c-4c8c-8e6a-45a3e89ba86d",
   "metadata": {
    "scrolled": true
   },
   "outputs": [],
   "source": [
    "# norms = []\n",
    "# means = []\n",
    "# stds = []\n",
    "\n",
    "# for name, p in (model.audio_encoder.proj.named_parameters()):\n",
    "#     print(p.dtype)\n",
    "#     print(p.max().item(), p.min().item())\n",
    "#     means.append(p.mean().item())\n",
    "#     stds.append(p.std().item())\n",
    "#     norms.append(torch.linalg.norm(p.to(torch.float).cpu().detach()))\n",
    "\n",
    "# plt.hist(means, bins=100, color='red', alpha=0.7)"
   ]
  },
  {
   "cell_type": "code",
   "execution_count": 13,
   "id": "61ef3676-f274-4dd8-b314-370d023cbc2e",
   "metadata": {},
   "outputs": [],
   "source": [
    "@torch.no_grad\n",
    "def sampler(input_ids):\n",
    "    outputs = []\n",
    "    for _ in range(50):\n",
    "        inputs_embeds = model.llm.model.embed_tokens(input_ids)\n",
    "        res = model.llm(inputs_embeds=inputs_embeds)\n",
    "        sampled = torch.multinomial(res.logits[:,-1,:].softmax(dim=-1), 1)# .to(device)\n",
    "        input_ids = torch.cat((input_ids, sampled), dim=-1)\n",
    "    return input_ids\n",
    "        "
   ]
  },
  {
   "cell_type": "code",
   "execution_count": 14,
   "id": "f084df65-3950-4945-b112-e6f1aa744bbc",
   "metadata": {
    "scrolled": true
   },
   "outputs": [],
   "source": [
    "# tokenizer.decode(sampler(tokenizer(\"tell me a story\", return_tensors=\"pt\").input_ids.to(tr_cfg.device))[0])"
   ]
  },
  {
   "cell_type": "code",
   "execution_count": 15,
   "id": "1e3b5723-cf6f-4c0b-98d4-2522ec2227b4",
   "metadata": {},
   "outputs": [],
   "source": [
    "import torch.optim as optim\n",
    "\n",
    "adam_beta1 = 0.9\n",
    "adama_beta2 = 0.999\n",
    "adam_eps = 1e-8\n",
    "\n",
    "# TODO: experiment with AdamW\n",
    "optimizer = optim.Adam(\n",
    "    [*model.parameters(),nn.Parameter(torch.tensor(1.0))],\n",
    "    lr=lr_default,\n",
    "    betas=(adam_beta1, adama_beta2),\n",
    "    eps=adam_eps,\n",
    ")\n",
    "datagen = iter(train_dl)\n",
    "device = tr_cfg.device\n",
    "uds = []\n",
    "losses = []"
   ]
  },
  {
   "cell_type": "code",
   "execution_count": 16,
   "id": "5f1ab18e",
   "metadata": {},
   "outputs": [],
   "source": [
    "# from src2.voixdb.dataset.music_caps import MusicCapsDataset\n",
    "# train_ds = MusicCapsDataset(train_entries, tokenizer, util.prompt_template_fn,audio_encoder.audio_encoder,raw_embedding,max_length,key=\"train-audio\")\n",
    "# train_dl = DataLoader(train_ds, batch_size=1, shuffle=True, num_workers=1)\n",
    "# datagen = iter(train_dl)\n",
    "\n",
    "# from time import perf_counter\n",
    "# start_time = perf_counter()\n",
    "# for i in range(3):\n",
    "#     b = next(datagen)\n",
    "\n",
    "# time_per_iter = (perf_counter() - start_time) / 20\n",
    "\n",
    "# time_per_iter\n",
    "# # raise 1"
   ]
  },
  {
   "cell_type": "code",
   "execution_count": 17,
   "id": "1b319550",
   "metadata": {},
   "outputs": [
    {
     "data": {
      "text/plain": [
       "{'attention_mask': torch.Size([400]),\n",
       " 'input_embeds_raw': torch.Size([400, 4096]),\n",
       " 'input_ids_raw': torch.Size([400]),\n",
       " 'audio_embeds_raw': torch.Size([2000, 1280]),\n",
       " 'audio_tokens_start': torch.Size([]),\n",
       " 'audio_tokens_end': torch.Size([]),\n",
       " 'cap_tokens_start': torch.Size([]),\n",
       " 'n_audio_embeds': torch.Size([])}"
      ]
     },
     "execution_count": 17,
     "metadata": {},
     "output_type": "execute_result"
    }
   ],
   "source": [
    "{k:v.shape for k,v in train_ds[0].items() if torch.is_tensor(v)}"
   ]
  },
  {
   "cell_type": "code",
   "execution_count": 18,
   "id": "f7d03aed-572d-4911-9564-99346639a4a0",
   "metadata": {},
   "outputs": [],
   "source": [
    "inputs_embeds = None\n",
    "attention_mask = None\n",
    "batch = None\n",
    "\n",
    "def fwd(self, _batch):\n",
    "    global inputs_embeds,attention_mask,batch\n",
    "    batch = _batch\n",
    "    attention_mask = batch[\"attention_mask\"]\n",
    "    inputs_embeds = batch[\"input_embeds_raw\"].clone()\n",
    "    audio_embeds_raw = batch[\"audio_embeds_raw\"]\n",
    "\n",
    "    audio_start = batch[\"audio_tokens_start\"]\n",
    "    audio_end = batch[\"audio_tokens_end\"]\n",
    "\n",
    "    n_audio_embeds = batch[\"n_audio_embeds\"]\n",
    "\n",
    "    # print({k:v.shape for k,v in batch.items()})\n",
    "\n",
    "    # un-pad and project the audio embeddings separately\n",
    "    audio_embeds = torch.stack([self.audio_encoder.proj(audio_embeds_raw[i,-n_audio_embeds[i]:]) for i in range(len(n_audio_embeds))])\n",
    "    assert audio_embeds.shape[1] == 250,f\"shape is {audio_embeds.shape}\"\n",
    "\n",
    "    N,*_ = audio_embeds.shape\n",
    "    for i in range(N):\n",
    "        # print(inputs_embeds.shape,audio_start[i],audio_end[i],audio_embeds.shape,audio_embeds_raw.shape)\n",
    "        # print(\"curr_embeds\",inputs_embeds[i,audio_start[i]:audio_end[i]])\n",
    "        inputs_embeds[i,audio_start[i]:audio_end[i]] = audio_embeds[i]\n",
    "    \n",
    "    # print('cap_embeds', cap_embeds.mean(dim=1), cap_embeds.std(dim=1))\n",
    "    mout = self.llm(\n",
    "        inputs_embeds=inputs_embeds,\n",
    "        # output_attentions=True,\n",
    "        # output_hidden_states=True,\n",
    "        attention_mask=attention_mask,\n",
    "        # use_cache=False,\n",
    "    )\n",
    "\n",
    "    return mout, audio_embeds.shape[1]"
   ]
  },
  {
   "cell_type": "code",
   "execution_count": 19,
   "id": "da203f4f",
   "metadata": {},
   "outputs": [],
   "source": [
    "local_batch = next(datagen)\n",
    "batch = {\n",
    "    k: v.to(device)\n",
    "    for k, v in local_batch.items()\n",
    "    if not k.startswith(\"_\")\n",
    "}\n",
    "with torch.amp.autocast(device_type=\"cuda\", dtype=torch.float16):\n",
    "    fwd(model,batch)\n",
    "# raise 1"
   ]
  },
  {
   "cell_type": "code",
   "execution_count": 20,
   "id": "244332a4",
   "metadata": {},
   "outputs": [
    {
     "data": {
      "text/plain": [
       "tensor([[0., 0., 0., 0., 0., 0., 0., 0., 0., 0., 0., 0., 0., 0., 0., 0., 0., 0.,\n",
       "         0., 0., 0., 0., 0., 0., 0., 0., 1., 1., 1., 1., 1., 1., 1., 1., 1., 1.,\n",
       "         1., 1., 1., 1., 1., 1., 1., 1., 1., 1., 1., 1., 1., 1., 1., 1., 1., 1.,\n",
       "         1., 1., 1., 1., 1., 1., 1., 1., 1., 1., 1., 1., 1., 1., 1., 1., 1., 1.,\n",
       "         1., 1., 1., 1., 1., 1., 1., 1., 1., 1., 1., 1., 1., 1., 1., 1., 1., 1.,\n",
       "         1., 1., 1., 1., 1., 1., 1., 1., 1., 1., 1., 1., 1., 1., 1., 1., 1., 1.,\n",
       "         1., 1., 1., 1., 1., 1., 1., 1., 1., 1., 1., 1., 1., 1., 1., 1., 1., 1.,\n",
       "         1., 1., 1., 1., 1., 1., 1., 1., 1., 1., 1., 1., 1., 1., 1., 1., 1., 1.,\n",
       "         1., 1., 1., 1., 1., 1., 1., 1., 1., 1., 1., 1., 1., 1., 1., 1., 1., 1.,\n",
       "         1., 1., 1., 1., 1., 1., 1., 1., 1., 1., 1., 1., 1., 1., 1., 1., 1., 1.,\n",
       "         1., 1., 1., 1., 1., 1., 1., 1., 1., 1., 1., 1., 1., 1., 1., 1., 1., 1.,\n",
       "         1., 1., 1., 1., 1., 1., 1., 1., 1., 1., 1., 1., 1., 1., 1., 1., 1., 1.,\n",
       "         1., 1., 1., 1., 1., 1., 1., 1., 1., 1., 1., 1., 1., 1., 1., 1., 1., 1.,\n",
       "         1., 1., 1., 1., 1., 1., 1., 1., 1., 1., 1., 1., 1., 1., 1., 1., 1., 1.,\n",
       "         1., 1., 1., 1., 1., 1., 1., 1., 1., 1., 1., 1., 1., 1., 1., 1., 1., 1.,\n",
       "         1., 1., 1., 1., 1., 1., 1., 1., 1., 1., 1., 1., 1., 1., 1., 1., 1., 1.,\n",
       "         1., 1., 1., 1., 1., 1., 1., 1., 1., 1., 1., 1., 1., 1., 1., 1., 1., 1.,\n",
       "         1., 1., 1., 1., 1., 1., 1., 1., 1., 1., 1., 1., 1., 1., 1., 1., 1., 1.,\n",
       "         1., 1., 1., 1., 1., 1., 1., 1., 1., 1., 1., 1., 1., 1., 1., 1., 1., 1.,\n",
       "         1., 1., 1., 1., 1., 1., 1., 1., 1., 1., 1., 1., 1., 1., 1., 1., 1., 1.,\n",
       "         1., 1., 1., 1., 1., 1., 1., 1., 1., 1., 1., 1., 1., 1., 1., 1., 1., 1.,\n",
       "         1., 1., 1., 1., 1., 1., 1., 1., 1., 1., 1., 1., 1., 1., 1., 1., 1., 1.,\n",
       "         1., 1., 1., 1.]], device='cuda:0')"
      ]
     },
     "execution_count": 20,
     "metadata": {},
     "output_type": "execute_result"
    }
   ],
   "source": [
    "attention_mask"
   ]
  },
  {
   "cell_type": "code",
   "execution_count": 21,
   "id": "a037d953",
   "metadata": {},
   "outputs": [
    {
     "data": {
      "text/plain": [
       "tensor([[ 0.0000e+00,  0.0000e+00,  0.0000e+00,  0.0000e+00,  0.0000e+00,\n",
       "          0.0000e+00,  0.0000e+00,  0.0000e+00,  0.0000e+00,  0.0000e+00,\n",
       "          0.0000e+00,  0.0000e+00,  0.0000e+00,  0.0000e+00,  0.0000e+00,\n",
       "          0.0000e+00,  0.0000e+00,  0.0000e+00,  0.0000e+00,  0.0000e+00,\n",
       "          0.0000e+00,  0.0000e+00,  0.0000e+00,  0.0000e+00,  0.0000e+00,\n",
       "          0.0000e+00, -4.5776e-03,  6.2180e-04, -9.9182e-04, -1.0910e-03,\n",
       "          1.7071e-04,  2.0142e-03,  3.7193e-04,  3.7384e-04, -7.5073e-03,\n",
       "         -2.2697e-04, -6.3705e-04,  1.8997e-03,  1.4725e-03,  8.7738e-04,\n",
       "          2.0264e-02,  6.2180e-04, -5.8365e-04, -1.0910e-03,  1.7071e-04,\n",
       "          3.0975e-03,  3.0327e-04,  1.9531e-03, -6.3324e-04,  3.0327e-04,\n",
       "          6.0272e-04, -1.0757e-03, -9.5752e-01, -2.7808e-01,  7.5342e-01,\n",
       "          3.8379e-01,  1.0553e-01, -1.8091e-01,  6.2218e-03,  8.4912e-01,\n",
       "         -6.5283e-01, -1.1006e+00, -1.4424e+00, -2.1216e-01,  1.3652e+00,\n",
       "          1.2441e+00,  1.3721e-01, -6.0889e-01, -1.0399e-02,  2.3132e-01,\n",
       "         -7.8076e-01,  5.2490e-01,  5.2393e-01,  1.1982e+00,  3.8892e-01,\n",
       "         -1.7451e+00, -3.8770e-01, -1.2433e-01, -1.2939e+00, -1.2783e+00,\n",
       "         -2.2534e-01,  6.6455e-01, -2.7783e-01, -3.0688e-01,  1.5271e-01,\n",
       "         -9.8340e-01, -2.3657e-01, -2.4268e-01,  1.5967e+00,  7.2412e-01,\n",
       "         -3.3521e-01,  2.4536e-01,  5.7471e-01, -3.0838e-02, -1.2568e+00,\n",
       "         -1.4414e+00,  5.0781e-01,  4.2529e-01,  1.4229e+00, -3.8184e-01,\n",
       "         -2.9175e-01,  6.0840e-01, -6.4600e-01, -5.0342e-01, -8.3008e-01,\n",
       "         -1.0371e+00,  3.4521e-01, -4.4702e-01,  7.4219e-01, -6.9727e-01,\n",
       "         -1.0312e+00, -1.3086e+00,  1.2578e+00,  1.1307e-02,  2.4023e+00,\n",
       "          6.3281e-01,  1.4805e+00, -1.1182e+00,  4.5459e-01, -1.3486e+00,\n",
       "         -4.8169e-01, -1.1895e+00, -2.8076e-01, -1.1221e+00, -1.8726e-01,\n",
       "         -1.1885e+00, -7.6538e-02,  3.6469e-02,  5.5811e-01,  1.9238e+00,\n",
       "          1.9512e+00,  3.4922e+00,  4.3008e+00,  4.6836e+00,  4.8867e+00,\n",
       "          2.3511e-01,  4.3555e+00,  4.3516e+00,  2.7617e+00,  3.4531e+00,\n",
       "          1.9238e+00,  2.5508e+00,  2.0781e+00,  1.9766e+00,  3.4023e+00,\n",
       "          1.1797e+00,  2.2598e+00,  3.0508e+00,  3.0449e+00,  3.2969e+00,\n",
       "          2.2773e+00,  2.6758e+00,  1.3301e+00,  1.9717e+00,  2.7539e+00,\n",
       "          2.1406e+00,  1.4746e+00,  3.5469e+00,  3.0098e+00,  1.0977e+00,\n",
       "          2.1387e+00,  3.0469e+00,  1.9043e+00,  2.1934e+00,  3.2930e+00,\n",
       "          3.3555e+00,  3.9141e+00,  2.5469e+00,  2.5488e+00,  1.4932e+00,\n",
       "          2.6973e+00,  4.4297e+00,  3.4746e+00,  1.9541e+00,  2.1543e+00,\n",
       "          2.6543e+00,  2.4258e+00,  2.8633e+00,  2.5352e+00,  2.7148e+00,\n",
       "          2.3730e+00,  2.6738e+00,  3.0488e+00,  2.9746e+00,  1.9316e+00,\n",
       "          2.4043e+00,  1.2695e+00,  2.5254e+00,  2.6895e+00,  2.0176e+00,\n",
       "          2.9121e+00,  2.2422e+00,  2.1777e+00,  2.0938e+00,  2.3359e+00,\n",
       "          2.4941e+00,  2.2461e+00,  2.5352e+00,  2.3652e+00,  2.0977e+00,\n",
       "          3.0996e+00,  2.0039e+00,  2.0605e+00,  2.2305e+00,  2.3770e+00,\n",
       "          2.8164e+00,  2.8184e+00,  2.6309e+00,  2.5488e+00,  2.1523e+00,\n",
       "          2.6113e+00,  2.3867e+00,  2.2090e+00,  2.2793e+00,  2.1738e+00,\n",
       "          2.7227e+00,  2.6348e+00,  2.0547e+00,  1.5605e+00,  1.7061e+00,\n",
       "          2.1523e+00,  2.5410e+00,  2.3027e+00,  2.6133e+00,  1.8818e+00,\n",
       "          2.0449e+00,  2.2227e+00,  1.8848e+00,  2.0684e+00,  1.8564e+00,\n",
       "          1.8564e+00,  2.1172e+00,  2.1816e+00,  2.2812e+00,  2.0273e+00,\n",
       "          1.9209e+00,  1.9209e+00,  1.9941e+00,  2.5586e+00,  2.4453e+00,\n",
       "          2.3555e+00,  2.6738e+00,  1.8701e+00,  2.0195e+00,  2.5332e+00,\n",
       "          2.3535e+00,  2.4590e+00,  2.3867e+00,  2.7695e+00,  2.8887e+00,\n",
       "          2.2812e+00,  1.7363e+00,  1.9688e+00,  1.6025e+00,  2.2285e+00,\n",
       "          2.5703e+00,  2.2422e+00,  2.1777e+00,  2.1934e+00,  2.0293e+00,\n",
       "         -2.3691e+00, -2.8281e+00, -2.8672e+00, -2.6543e+00, -2.7480e+00,\n",
       "         -2.3008e+00, -2.5723e+00, -2.9453e+00, -3.0879e+00, -2.8145e+00,\n",
       "         -2.7637e+00, -2.8555e+00, -2.5527e+00, -1.8496e+00,  1.4150e+00,\n",
       "          1.8984e+00,  4.2065e-01,  1.9570e+00,  2.2207e+00,  2.3223e+00,\n",
       "          2.8652e+00,  3.3730e+00,  6.9688e+00,  4.4883e+00,  1.3662e+00,\n",
       "          3.3301e+00,  3.6401e-01,  4.2109e+00,  3.3262e+00,  6.4648e+00,\n",
       "          1.7383e+00,  3.6172e+00,  3.0898e+00,  5.1758e+00,  2.7344e+00,\n",
       "          3.5664e+00,  2.5469e+00, -1.6133e+00, -1.6055e+00,  6.1016e+00,\n",
       "          1.5254e+00,  1.0869e+00, -1.4267e-03, -1.0910e-03,  5.3787e-04,\n",
       "          2.0264e-02,  6.2180e-04,  4.9744e-03, -1.0910e-03,  5.3787e-04,\n",
       "         -1.2589e-03, -2.2583e-03, -1.0204e-04, -3.4142e-04,  3.6316e-03,\n",
       "         -6.8665e-04,  3.7384e-04, -6.5918e-03, -6.3324e-04, -1.6785e-03,\n",
       "         -2.6512e-04, -3.7994e-03,  1.9531e-03,  3.3264e-03, -6.3324e-04,\n",
       "          3.0327e-04,  4.6692e-03,  4.1809e-03,  1.0109e-04, -9.5367e-05,\n",
       "         -4.1809e-03, -3.6812e-04,  2.1973e-03,  4.9210e-04,  4.0588e-03,\n",
       "         -3.6812e-04, -7.6294e-04, -9.7656e-04,  2.6550e-03, -5.8365e-04,\n",
       "         -1.6785e-03,  3.0327e-04,  4.0588e-03, -1.1215e-03, -1.2589e-03,\n",
       "         -5.8365e-04,  2.0599e-03,  4.1504e-03,  3.5858e-03,  7.2098e-04,\n",
       "          8.2397e-04, -1.6479e-03, -2.8610e-04,  5.8746e-04, -3.6812e-04,\n",
       "          1.6479e-03, -1.8005e-03, -1.6861e-03, -3.1586e-03,  1.0109e-04,\n",
       "          3.0136e-04,  3.5095e-04, -1.3962e-03, -7.7438e-04,  3.1281e-03,\n",
       "         -1.1215e-03,  1.1396e-04,  3.7193e-04,  2.3346e-03,  1.6403e-04,\n",
       "          3.9291e-04, -8.9645e-04,  1.9531e-03,  3.3264e-03, -3.6812e-04,\n",
       "          9.8419e-04,  3.8605e-03,  1.9531e-03,  3.3264e-03, -3.6812e-04,\n",
       "          2.3346e-03, -3.7689e-03, -2.0752e-03,  1.9531e-03,  3.3264e-03,\n",
       "          1.0109e-04, -1.4572e-03,  3.0327e-04,  9.9945e-04,  1.8616e-03,\n",
       "         -6.3324e-04,  3.0327e-04,  6.7139e-03,  3.7384e-04,  1.5354e-04,\n",
       "          2.5177e-03,  3.9673e-03,  1.9531e-03,  1.7776e-03, -1.1215e-03]],\n",
       "       device='cuda:0')"
      ]
     },
     "execution_count": 21,
     "metadata": {},
     "output_type": "execute_result"
    }
   ],
   "source": [
    "inputs_embeds[:,:,0]"
   ]
  },
  {
   "cell_type": "code",
   "execution_count": 22,
   "id": "80c1123b",
   "metadata": {},
   "outputs": [
    {
     "data": {
      "text/plain": [
       "tensor([[[-0.5405, -0.2817,  0.0168,  ..., -0.8462, -0.2443, -0.1471],\n",
       "         [ 0.2339, -0.5532,  0.4138,  ..., -0.5981, -0.3132,  0.0386],\n",
       "         [ 0.2169, -0.0100, -0.0635,  ..., -0.1970,  0.0443, -0.2830],\n",
       "         ...,\n",
       "         [-0.2874, -0.4905,  0.0539,  ..., -0.2246,  0.2258, -0.5601],\n",
       "         [-0.2269,  0.1908, -0.3420,  ...,  0.6001,  0.0133, -1.7236],\n",
       "         [ 0.0264,  0.6362, -0.1864,  ...,  0.3386,  0.3479, -0.3062]]],\n",
       "       device='cuda:0')"
      ]
     },
     "execution_count": 22,
     "metadata": {},
     "output_type": "execute_result"
    }
   ],
   "source": [
    "batch[\"audio_embeds_raw\"][:,-1500:]"
   ]
  },
  {
   "cell_type": "code",
   "execution_count": 23,
   "id": "dc4962b8",
   "metadata": {},
   "outputs": [
    {
     "data": {
      "text/plain": [
       "tensor([[[-0.4104,  0.0649,  0.5522,  ..., -0.1167, -0.3240, -0.6045],\n",
       "         [ 0.1138, -0.9551, -0.2742,  ..., -0.4602, -0.3120, -0.3083],\n",
       "         [ 0.0380, -0.3933, -0.4968,  ..., -0.1611, -0.2249, -0.3965],\n",
       "         ...,\n",
       "         [-0.4922, -0.2446, -0.2267,  ...,  0.0430, -0.1564, -1.2529],\n",
       "         [-0.3904,  0.3357, -0.4678,  ...,  0.2822, -0.4429, -1.5586],\n",
       "         [-0.1785,  0.7549, -0.4580,  ...,  0.3855,  0.0160, -0.4167]]],\n",
       "       device='cuda:0', dtype=torch.float16)"
      ]
     },
     "execution_count": 23,
     "metadata": {},
     "output_type": "execute_result"
    }
   ],
   "source": [
    "with torch.no_grad():\n",
    "    with torch.amp.autocast(device_type=\"cuda\",dtype=torch.float16):\n",
    "        a=audio_encoder.audio_encoder(util.load_audio_mels(train_ds.entries[0][\"file\"]).cuda())\n",
    "a"
   ]
  },
  {
   "cell_type": "code",
   "execution_count": 24,
   "id": "49cbab08",
   "metadata": {},
   "outputs": [],
   "source": [
    "# torch.sum(batch[\"attention_mask\"][1] != 0)"
   ]
  },
  {
   "cell_type": "code",
   "execution_count": 25,
   "id": "d45402ae",
   "metadata": {},
   "outputs": [],
   "source": [
    "# train_ds.raw_audio_embeds[0].shape"
   ]
  },
  {
   "cell_type": "code",
   "execution_count": 26,
   "id": "84c13024",
   "metadata": {},
   "outputs": [],
   "source": [
    "# targets[0]\n",
    "# tokenizer.decode(targets[0,-84:])\n",
    "# tokenizer.decode(torch.max(logits[0,-84:],dim=-1).indices)\n",
    "# with torch.amp.autocast(device_type=\"cuda\", dtype=torch.float16):\n",
    "#     b = model.audio_encoder.proj(batch[\"audio_embeds_raw\"][0,-batch[\"n_audio_embeds\"][0]:])\n",
    "# b\n",
    "# print(batch[\"n_audio_embeds\"][0])\n",
    "# print(torch.sum(batch[\"audio_embeds_raw\"][0,:,0]!=0),batch[\"audio_embeds_raw\"].shape)\n",
    "\n"
   ]
  },
  {
   "cell_type": "code",
   "execution_count": 27,
   "id": "1fcd921b",
   "metadata": {},
   "outputs": [],
   "source": [
    "def get_loss(local_batch):\n",
    "    # Transfer to GPU\n",
    "    batch = {\n",
    "        k: v.to(device)\n",
    "        for k, v in local_batch.items()\n",
    "        if not k.startswith(\"_\")\n",
    "    }\n",
    "    # compute\n",
    "    with torch.amp.autocast(device_type=\"cuda\", dtype=torch.float16):\n",
    "        mout, audio_seq = fwd(model, batch)\n",
    "\n",
    "    targets = batch[\"input_ids_raw\"][:]\n",
    "    target_idxes = torch.arange(max_length,device=targets.device)[None]\n",
    "\n",
    "    # remove the last output\n",
    "    logits = mout.logits\n",
    "    logits_start = batch[\"cap_tokens_start\"].to(targets.device)\n",
    "\n",
    "    # print()\n",
    "    targets = torch.masked_fill(targets,target_idxes < logits_start[:,None],-100)[:,1:].long()\n",
    "    \n",
    "    # remove the prompt and audio seq from logits\n",
    "    # calculation; additionally, remove the final item\n",
    "    logits = logits[:, :-1, :].contiguous().to(targets.device)\n",
    "\n",
    "    # logits = logits[:,-20:]\n",
    "    # targets = targets[:,-20:]\n",
    "    assert logits.shape[:2] == targets.shape[:2], f\"shape is {logits.shape} and {targets.shape}\"\n",
    "    # print(logits.shape,targets.shape)\n",
    "\n",
    "    loss = nn.functional.cross_entropy(\n",
    "        logits.view(-1, logits.shape[-1]), targets.view(-1)\n",
    "    )\n",
    "\n",
    "    return loss\n"
   ]
  },
  {
   "cell_type": "code",
   "execution_count": 28,
   "id": "c6da5732-af26-49cc-a5cf-80f191a7934e",
   "metadata": {
    "scrolled": true
   },
   "outputs": [
    {
     "name": "stderr",
     "output_type": "stream",
     "text": [
      "100%|██████████| 247/247 [00:47<00:00,  5.24it/s]\n"
     ]
    },
    {
     "name": "stdout",
     "output_type": "stream",
     "text": [
      "0: train=1.1825 eval=1.7797\n"
     ]
    },
    {
     "name": "stderr",
     "output_type": "stream",
     "text": [
      "100%|██████████| 247/247 [00:47<00:00,  5.24it/s]\n"
     ]
    },
    {
     "name": "stdout",
     "output_type": "stream",
     "text": [
      "500: train=1.6033 eval=1.7655\n"
     ]
    },
    {
     "name": "stderr",
     "output_type": "stream",
     "text": [
      "100%|██████████| 247/247 [00:47<00:00,  5.25it/s]\n"
     ]
    },
    {
     "name": "stdout",
     "output_type": "stream",
     "text": [
      "1000: train=1.6445 eval=1.7955\n"
     ]
    },
    {
     "name": "stderr",
     "output_type": "stream",
     "text": [
      "100%|██████████| 247/247 [00:47<00:00,  5.24it/s]\n"
     ]
    },
    {
     "name": "stdout",
     "output_type": "stream",
     "text": [
      "1500: train=1.6698 eval=1.7516\n"
     ]
    },
    {
     "name": "stderr",
     "output_type": "stream",
     "text": [
      "100%|██████████| 247/247 [00:47<00:00,  5.24it/s]\n"
     ]
    },
    {
     "name": "stdout",
     "output_type": "stream",
     "text": [
      "2000: train=1.6750 eval=1.7573\n"
     ]
    },
    {
     "name": "stderr",
     "output_type": "stream",
     "text": [
      "100%|██████████| 247/247 [00:47<00:00,  5.24it/s]\n"
     ]
    },
    {
     "name": "stdout",
     "output_type": "stream",
     "text": [
      "2500: train=1.6636 eval=1.6849\n"
     ]
    },
    {
     "name": "stderr",
     "output_type": "stream",
     "text": [
      "100%|██████████| 247/247 [00:47<00:00,  5.25it/s]\n"
     ]
    },
    {
     "name": "stdout",
     "output_type": "stream",
     "text": [
      "3000: train=1.6565 eval=1.6722\n"
     ]
    },
    {
     "name": "stderr",
     "output_type": "stream",
     "text": [
      "100%|██████████| 247/247 [00:47<00:00,  5.24it/s]\n"
     ]
    },
    {
     "name": "stdout",
     "output_type": "stream",
     "text": [
      "3500: train=1.6516 eval=1.6709\n"
     ]
    },
    {
     "name": "stderr",
     "output_type": "stream",
     "text": [
      "100%|██████████| 247/247 [00:47<00:00,  5.25it/s]\n"
     ]
    },
    {
     "name": "stdout",
     "output_type": "stream",
     "text": [
      "4000: train=1.6481 eval=1.6419\n"
     ]
    },
    {
     "name": "stderr",
     "output_type": "stream",
     "text": [
      "100%|██████████| 247/247 [00:47<00:00,  5.25it/s]\n"
     ]
    },
    {
     "name": "stdout",
     "output_type": "stream",
     "text": [
      "4500: train=1.6456 eval=1.6576\n"
     ]
    },
    {
     "name": "stderr",
     "output_type": "stream",
     "text": [
      "100%|██████████| 247/247 [00:47<00:00,  5.24it/s]\n"
     ]
    },
    {
     "name": "stdout",
     "output_type": "stream",
     "text": [
      "0: train=1.6424 eval=1.6289\n"
     ]
    },
    {
     "name": "stderr",
     "output_type": "stream",
     "text": [
      "100%|██████████| 247/247 [00:47<00:00,  5.24it/s]\n"
     ]
    },
    {
     "name": "stdout",
     "output_type": "stream",
     "text": [
      "500: train=1.6127 eval=1.6540\n"
     ]
    },
    {
     "name": "stderr",
     "output_type": "stream",
     "text": [
      "100%|██████████| 247/247 [00:47<00:00,  5.23it/s]\n"
     ]
    },
    {
     "name": "stdout",
     "output_type": "stream",
     "text": [
      "1000: train=1.5898 eval=1.6533\n"
     ]
    },
    {
     "name": "stderr",
     "output_type": "stream",
     "text": [
      "100%|██████████| 247/247 [00:47<00:00,  5.23it/s]\n"
     ]
    },
    {
     "name": "stdout",
     "output_type": "stream",
     "text": [
      "1500: train=1.5681 eval=1.6332\n"
     ]
    },
    {
     "name": "stderr",
     "output_type": "stream",
     "text": [
      "100%|██████████| 247/247 [00:47<00:00,  5.22it/s]\n"
     ]
    },
    {
     "name": "stdout",
     "output_type": "stream",
     "text": [
      "2000: train=1.5503 eval=1.6356\n"
     ]
    },
    {
     "name": "stderr",
     "output_type": "stream",
     "text": [
      "100%|██████████| 247/247 [00:47<00:00,  5.25it/s]\n"
     ]
    },
    {
     "name": "stdout",
     "output_type": "stream",
     "text": [
      "2500: train=1.5388 eval=1.6524\n"
     ]
    },
    {
     "name": "stderr",
     "output_type": "stream",
     "text": [
      "100%|██████████| 247/247 [00:47<00:00,  5.23it/s]\n"
     ]
    },
    {
     "name": "stdout",
     "output_type": "stream",
     "text": [
      "3000: train=1.5283 eval=1.6237\n"
     ]
    },
    {
     "name": "stderr",
     "output_type": "stream",
     "text": [
      "100%|██████████| 247/247 [00:47<00:00,  5.24it/s]\n"
     ]
    },
    {
     "name": "stdout",
     "output_type": "stream",
     "text": [
      "3500: train=1.5188 eval=1.6244\n"
     ]
    },
    {
     "name": "stderr",
     "output_type": "stream",
     "text": [
      "100%|██████████| 247/247 [00:47<00:00,  5.22it/s]\n"
     ]
    },
    {
     "name": "stdout",
     "output_type": "stream",
     "text": [
      "4000: train=1.5103 eval=1.6198\n"
     ]
    },
    {
     "name": "stderr",
     "output_type": "stream",
     "text": [
      "100%|██████████| 247/247 [00:47<00:00,  5.24it/s]\n"
     ]
    },
    {
     "name": "stdout",
     "output_type": "stream",
     "text": [
      "4500: train=1.5030 eval=1.6352\n"
     ]
    },
    {
     "name": "stderr",
     "output_type": "stream",
     "text": [
      "100%|██████████| 247/247 [00:47<00:00,  5.24it/s]\n"
     ]
    },
    {
     "name": "stdout",
     "output_type": "stream",
     "text": [
      "0: train=1.5008 eval=1.6257\n"
     ]
    },
    {
     "name": "stderr",
     "output_type": "stream",
     "text": [
      "100%|██████████| 247/247 [00:47<00:00,  5.24it/s]\n"
     ]
    },
    {
     "name": "stdout",
     "output_type": "stream",
     "text": [
      "500: train=1.4742 eval=1.7352\n"
     ]
    },
    {
     "name": "stderr",
     "output_type": "stream",
     "text": [
      "100%|██████████| 247/247 [00:47<00:00,  5.23it/s]\n"
     ]
    },
    {
     "name": "stdout",
     "output_type": "stream",
     "text": [
      "1000: train=1.4513 eval=1.7289\n"
     ]
    },
    {
     "name": "stderr",
     "output_type": "stream",
     "text": [
      "100%|██████████| 247/247 [00:47<00:00,  5.24it/s]\n"
     ]
    },
    {
     "name": "stdout",
     "output_type": "stream",
     "text": [
      "1500: train=1.4313 eval=1.6877\n"
     ]
    },
    {
     "name": "stderr",
     "output_type": "stream",
     "text": [
      "100%|██████████| 247/247 [00:47<00:00,  5.24it/s]\n"
     ]
    },
    {
     "name": "stdout",
     "output_type": "stream",
     "text": [
      "2000: train=1.4145 eval=1.7318\n"
     ]
    },
    {
     "name": "stderr",
     "output_type": "stream",
     "text": [
      "100%|██████████| 247/247 [00:47<00:00,  5.23it/s]\n"
     ]
    },
    {
     "name": "stdout",
     "output_type": "stream",
     "text": [
      "2500: train=1.4002 eval=1.7430\n"
     ]
    },
    {
     "name": "stderr",
     "output_type": "stream",
     "text": [
      "100%|██████████| 247/247 [00:47<00:00,  5.23it/s]\n"
     ]
    },
    {
     "name": "stdout",
     "output_type": "stream",
     "text": [
      "3000: train=1.3879 eval=1.7036\n"
     ]
    },
    {
     "name": "stderr",
     "output_type": "stream",
     "text": [
      "100%|██████████| 247/247 [00:47<00:00,  5.24it/s]\n"
     ]
    },
    {
     "name": "stdout",
     "output_type": "stream",
     "text": [
      "3500: train=1.3767 eval=1.6799\n"
     ]
    },
    {
     "name": "stderr",
     "output_type": "stream",
     "text": [
      "100%|██████████| 247/247 [00:47<00:00,  5.25it/s]\n"
     ]
    },
    {
     "name": "stdout",
     "output_type": "stream",
     "text": [
      "4000: train=1.3670 eval=1.6873\n"
     ]
    },
    {
     "name": "stderr",
     "output_type": "stream",
     "text": [
      "100%|██████████| 247/247 [00:47<00:00,  5.23it/s]\n"
     ]
    },
    {
     "name": "stdout",
     "output_type": "stream",
     "text": [
      "4500: train=1.3586 eval=1.6835\n"
     ]
    },
    {
     "name": "stderr",
     "output_type": "stream",
     "text": [
      "100%|██████████| 247/247 [00:47<00:00,  5.24it/s]\n"
     ]
    },
    {
     "name": "stdout",
     "output_type": "stream",
     "text": [
      "0: train=1.3558 eval=1.6786\n"
     ]
    },
    {
     "name": "stderr",
     "output_type": "stream",
     "text": [
      "100%|██████████| 247/247 [00:47<00:00,  5.24it/s]\n"
     ]
    },
    {
     "name": "stdout",
     "output_type": "stream",
     "text": [
      "500: train=1.3338 eval=1.8190\n"
     ]
    },
    {
     "name": "stderr",
     "output_type": "stream",
     "text": [
      "100%|██████████| 247/247 [00:47<00:00,  5.24it/s]\n"
     ]
    },
    {
     "name": "stdout",
     "output_type": "stream",
     "text": [
      "1000: train=1.3146 eval=1.8014\n"
     ]
    },
    {
     "name": "stderr",
     "output_type": "stream",
     "text": [
      "100%|██████████| 247/247 [00:47<00:00,  5.23it/s]\n"
     ]
    },
    {
     "name": "stdout",
     "output_type": "stream",
     "text": [
      "1500: train=1.2973 eval=1.8395\n"
     ]
    },
    {
     "name": "stderr",
     "output_type": "stream",
     "text": [
      "100%|██████████| 247/247 [00:47<00:00,  5.24it/s]\n"
     ]
    },
    {
     "name": "stdout",
     "output_type": "stream",
     "text": [
      "2000: train=1.2820 eval=1.8209\n"
     ]
    },
    {
     "name": "stderr",
     "output_type": "stream",
     "text": [
      "100%|██████████| 247/247 [00:47<00:00,  5.24it/s]\n"
     ]
    },
    {
     "name": "stdout",
     "output_type": "stream",
     "text": [
      "2500: train=1.2682 eval=1.8122\n"
     ]
    },
    {
     "name": "stderr",
     "output_type": "stream",
     "text": [
      "100%|██████████| 247/247 [00:47<00:00,  5.23it/s]\n"
     ]
    },
    {
     "name": "stdout",
     "output_type": "stream",
     "text": [
      "3000: train=1.2557 eval=1.8238\n"
     ]
    },
    {
     "name": "stderr",
     "output_type": "stream",
     "text": [
      "100%|██████████| 247/247 [00:47<00:00,  5.23it/s]\n"
     ]
    },
    {
     "name": "stdout",
     "output_type": "stream",
     "text": [
      "3500: train=1.2447 eval=1.8719\n"
     ]
    },
    {
     "name": "stderr",
     "output_type": "stream",
     "text": [
      "100%|██████████| 247/247 [00:47<00:00,  5.24it/s]\n"
     ]
    },
    {
     "name": "stdout",
     "output_type": "stream",
     "text": [
      "4000: train=1.2354 eval=1.8224\n"
     ]
    },
    {
     "name": "stderr",
     "output_type": "stream",
     "text": [
      "100%|██████████| 247/247 [00:47<00:00,  5.23it/s]\n"
     ]
    },
    {
     "name": "stdout",
     "output_type": "stream",
     "text": [
      "4500: train=1.2270 eval=1.7899\n"
     ]
    },
    {
     "name": "stderr",
     "output_type": "stream",
     "text": [
      "100%|██████████| 247/247 [00:47<00:00,  5.21it/s]\n"
     ]
    },
    {
     "name": "stdout",
     "output_type": "stream",
     "text": [
      "0: train=1.2242 eval=1.7844\n"
     ]
    },
    {
     "name": "stderr",
     "output_type": "stream",
     "text": [
      "100%|██████████| 247/247 [00:47<00:00,  5.23it/s]\n"
     ]
    },
    {
     "name": "stdout",
     "output_type": "stream",
     "text": [
      "500: train=1.2061 eval=1.9671\n"
     ]
    },
    {
     "name": "stderr",
     "output_type": "stream",
     "text": [
      "100%|██████████| 247/247 [00:47<00:00,  5.23it/s]\n"
     ]
    },
    {
     "name": "stdout",
     "output_type": "stream",
     "text": [
      "1000: train=1.1901 eval=1.9798\n"
     ]
    },
    {
     "name": "stderr",
     "output_type": "stream",
     "text": [
      "100%|██████████| 247/247 [00:47<00:00,  5.24it/s]\n"
     ]
    },
    {
     "name": "stdout",
     "output_type": "stream",
     "text": [
      "1500: train=1.1759 eval=1.9745\n"
     ]
    },
    {
     "name": "stderr",
     "output_type": "stream",
     "text": [
      "100%|██████████| 247/247 [00:47<00:00,  5.23it/s]\n"
     ]
    },
    {
     "name": "stdout",
     "output_type": "stream",
     "text": [
      "2000: train=1.1627 eval=1.9174\n"
     ]
    },
    {
     "name": "stderr",
     "output_type": "stream",
     "text": [
      "100%|██████████| 247/247 [00:47<00:00,  5.24it/s]\n"
     ]
    },
    {
     "name": "stdout",
     "output_type": "stream",
     "text": [
      "2500: train=1.1509 eval=1.9274\n"
     ]
    },
    {
     "name": "stderr",
     "output_type": "stream",
     "text": [
      "100%|██████████| 247/247 [00:47<00:00,  5.23it/s]\n"
     ]
    },
    {
     "name": "stdout",
     "output_type": "stream",
     "text": [
      "3000: train=1.1400 eval=1.9093\n"
     ]
    },
    {
     "name": "stderr",
     "output_type": "stream",
     "text": [
      "100%|██████████| 247/247 [00:47<00:00,  5.23it/s]\n"
     ]
    },
    {
     "name": "stdout",
     "output_type": "stream",
     "text": [
      "3500: train=1.1301 eval=1.9254\n"
     ]
    },
    {
     "name": "stderr",
     "output_type": "stream",
     "text": [
      "100%|██████████| 247/247 [00:47<00:00,  5.23it/s]\n"
     ]
    },
    {
     "name": "stdout",
     "output_type": "stream",
     "text": [
      "4000: train=1.1208 eval=1.9209\n"
     ]
    },
    {
     "name": "stderr",
     "output_type": "stream",
     "text": [
      "100%|██████████| 247/247 [00:47<00:00,  5.24it/s]\n"
     ]
    },
    {
     "name": "stdout",
     "output_type": "stream",
     "text": [
      "4500: train=1.1122 eval=1.9188\n"
     ]
    },
    {
     "name": "stderr",
     "output_type": "stream",
     "text": [
      "100%|██████████| 247/247 [00:47<00:00,  5.22it/s]\n"
     ]
    },
    {
     "name": "stdout",
     "output_type": "stream",
     "text": [
      "0: train=1.1094 eval=1.9474\n"
     ]
    },
    {
     "name": "stderr",
     "output_type": "stream",
     "text": [
      "100%|██████████| 247/247 [00:47<00:00,  5.23it/s]\n"
     ]
    },
    {
     "name": "stdout",
     "output_type": "stream",
     "text": [
      "500: train=1.0949 eval=2.0588\n"
     ]
    },
    {
     "name": "stderr",
     "output_type": "stream",
     "text": [
      "100%|██████████| 247/247 [00:47<00:00,  5.22it/s]\n"
     ]
    },
    {
     "name": "stdout",
     "output_type": "stream",
     "text": [
      "1000: train=1.0816 eval=2.1418\n"
     ]
    },
    {
     "name": "stderr",
     "output_type": "stream",
     "text": [
      "100%|██████████| 247/247 [00:47<00:00,  5.21it/s]\n"
     ]
    },
    {
     "name": "stdout",
     "output_type": "stream",
     "text": [
      "1500: train=1.0695 eval=2.0121\n"
     ]
    },
    {
     "name": "stderr",
     "output_type": "stream",
     "text": [
      "100%|██████████| 247/247 [00:47<00:00,  5.23it/s]\n"
     ]
    },
    {
     "name": "stdout",
     "output_type": "stream",
     "text": [
      "2000: train=1.0580 eval=2.0810\n"
     ]
    },
    {
     "name": "stderr",
     "output_type": "stream",
     "text": [
      "100%|██████████| 247/247 [00:47<00:00,  5.23it/s]\n"
     ]
    },
    {
     "name": "stdout",
     "output_type": "stream",
     "text": [
      "2500: train=1.0478 eval=2.0770\n"
     ]
    },
    {
     "name": "stderr",
     "output_type": "stream",
     "text": [
      "100%|██████████| 247/247 [00:47<00:00,  5.23it/s]\n"
     ]
    },
    {
     "name": "stdout",
     "output_type": "stream",
     "text": [
      "3000: train=1.0381 eval=2.0375\n"
     ]
    },
    {
     "name": "stderr",
     "output_type": "stream",
     "text": [
      "100%|██████████| 247/247 [00:47<00:00,  5.23it/s]\n"
     ]
    },
    {
     "name": "stdout",
     "output_type": "stream",
     "text": [
      "3500: train=1.0291 eval=2.0462\n"
     ]
    },
    {
     "name": "stderr",
     "output_type": "stream",
     "text": [
      "100%|██████████| 247/247 [00:47<00:00,  5.23it/s]\n"
     ]
    },
    {
     "name": "stdout",
     "output_type": "stream",
     "text": [
      "4000: train=1.0208 eval=2.0432\n"
     ]
    },
    {
     "name": "stderr",
     "output_type": "stream",
     "text": [
      "100%|██████████| 247/247 [00:47<00:00,  5.23it/s]\n"
     ]
    },
    {
     "name": "stdout",
     "output_type": "stream",
     "text": [
      "4500: train=1.0131 eval=2.0200\n"
     ]
    },
    {
     "name": "stderr",
     "output_type": "stream",
     "text": [
      "100%|██████████| 247/247 [00:47<00:00,  5.22it/s]\n"
     ]
    },
    {
     "name": "stdout",
     "output_type": "stream",
     "text": [
      "0: train=1.0104 eval=2.0079\n"
     ]
    },
    {
     "name": "stderr",
     "output_type": "stream",
     "text": [
      "100%|██████████| 247/247 [00:47<00:00,  5.22it/s]\n"
     ]
    },
    {
     "name": "stdout",
     "output_type": "stream",
     "text": [
      "500: train=0.9981 eval=2.1940\n"
     ]
    },
    {
     "name": "stderr",
     "output_type": "stream",
     "text": [
      "100%|██████████| 247/247 [00:47<00:00,  5.23it/s]\n"
     ]
    },
    {
     "name": "stdout",
     "output_type": "stream",
     "text": [
      "1000: train=0.9868 eval=2.2146\n"
     ]
    },
    {
     "name": "stderr",
     "output_type": "stream",
     "text": [
      "100%|██████████| 247/247 [00:47<00:00,  5.23it/s]\n"
     ]
    },
    {
     "name": "stdout",
     "output_type": "stream",
     "text": [
      "1500: train=0.9762 eval=2.2107\n"
     ]
    },
    {
     "name": "stderr",
     "output_type": "stream",
     "text": [
      "100%|██████████| 247/247 [00:47<00:00,  5.22it/s]\n"
     ]
    },
    {
     "name": "stdout",
     "output_type": "stream",
     "text": [
      "2000: train=0.9666 eval=2.1370\n"
     ]
    },
    {
     "name": "stderr",
     "output_type": "stream",
     "text": [
      "100%|██████████| 247/247 [00:47<00:00,  5.23it/s]\n"
     ]
    },
    {
     "name": "stdout",
     "output_type": "stream",
     "text": [
      "2500: train=0.9575 eval=2.1349\n"
     ]
    },
    {
     "name": "stderr",
     "output_type": "stream",
     "text": [
      "100%|██████████| 247/247 [00:47<00:00,  5.23it/s]\n"
     ]
    },
    {
     "name": "stdout",
     "output_type": "stream",
     "text": [
      "3000: train=0.9490 eval=2.1841\n"
     ]
    },
    {
     "name": "stderr",
     "output_type": "stream",
     "text": [
      "100%|██████████| 247/247 [00:47<00:00,  5.24it/s]\n"
     ]
    },
    {
     "name": "stdout",
     "output_type": "stream",
     "text": [
      "3500: train=0.9408 eval=2.1442\n"
     ]
    },
    {
     "name": "stderr",
     "output_type": "stream",
     "text": [
      "100%|██████████| 247/247 [00:47<00:00,  5.22it/s]\n"
     ]
    },
    {
     "name": "stdout",
     "output_type": "stream",
     "text": [
      "4000: train=0.9333 eval=2.1439\n"
     ]
    },
    {
     "name": "stderr",
     "output_type": "stream",
     "text": [
      "100%|██████████| 247/247 [00:47<00:00,  5.22it/s]\n"
     ]
    },
    {
     "name": "stdout",
     "output_type": "stream",
     "text": [
      "4500: train=0.9259 eval=2.1500\n"
     ]
    },
    {
     "name": "stderr",
     "output_type": "stream",
     "text": [
      "100%|██████████| 247/247 [00:47<00:00,  5.22it/s]\n"
     ]
    },
    {
     "name": "stdout",
     "output_type": "stream",
     "text": [
      "0: train=0.9234 eval=2.1280\n"
     ]
    },
    {
     "name": "stderr",
     "output_type": "stream",
     "text": [
      "100%|██████████| 247/247 [00:47<00:00,  5.23it/s]\n"
     ]
    },
    {
     "name": "stdout",
     "output_type": "stream",
     "text": [
      "500: train=0.9131 eval=2.2933\n"
     ]
    },
    {
     "name": "stderr",
     "output_type": "stream",
     "text": [
      "100%|██████████| 247/247 [00:47<00:00,  5.23it/s]\n"
     ]
    },
    {
     "name": "stdout",
     "output_type": "stream",
     "text": [
      "1000: train=0.9034 eval=2.2897\n"
     ]
    },
    {
     "name": "stderr",
     "output_type": "stream",
     "text": [
      "100%|██████████| 247/247 [00:47<00:00,  5.22it/s]\n"
     ]
    },
    {
     "name": "stdout",
     "output_type": "stream",
     "text": [
      "1500: train=0.8942 eval=2.2950\n"
     ]
    },
    {
     "name": "stderr",
     "output_type": "stream",
     "text": [
      "100%|██████████| 247/247 [00:47<00:00,  5.22it/s]\n"
     ]
    },
    {
     "name": "stdout",
     "output_type": "stream",
     "text": [
      "2000: train=0.8856 eval=2.2395\n"
     ]
    },
    {
     "name": "stderr",
     "output_type": "stream",
     "text": [
      "100%|██████████| 247/247 [00:47<00:00,  5.23it/s]\n"
     ]
    },
    {
     "name": "stdout",
     "output_type": "stream",
     "text": [
      "2500: train=0.8776 eval=2.2722\n"
     ]
    },
    {
     "name": "stderr",
     "output_type": "stream",
     "text": [
      "100%|██████████| 247/247 [00:47<00:00,  5.22it/s]\n"
     ]
    },
    {
     "name": "stdout",
     "output_type": "stream",
     "text": [
      "3000: train=0.8700 eval=2.2384\n"
     ]
    },
    {
     "name": "stderr",
     "output_type": "stream",
     "text": [
      "100%|██████████| 247/247 [00:47<00:00,  5.23it/s]\n"
     ]
    },
    {
     "name": "stdout",
     "output_type": "stream",
     "text": [
      "3500: train=0.8626 eval=2.2922\n"
     ]
    },
    {
     "name": "stderr",
     "output_type": "stream",
     "text": [
      "100%|██████████| 247/247 [00:47<00:00,  5.21it/s]\n"
     ]
    },
    {
     "name": "stdout",
     "output_type": "stream",
     "text": [
      "4000: train=0.8558 eval=2.2382\n"
     ]
    },
    {
     "name": "stderr",
     "output_type": "stream",
     "text": [
      "100%|██████████| 247/247 [00:47<00:00,  5.23it/s]\n"
     ]
    },
    {
     "name": "stdout",
     "output_type": "stream",
     "text": [
      "4500: train=0.8489 eval=2.2517\n"
     ]
    },
    {
     "name": "stderr",
     "output_type": "stream",
     "text": [
      "100%|██████████| 247/247 [00:47<00:00,  5.21it/s]\n"
     ]
    },
    {
     "name": "stdout",
     "output_type": "stream",
     "text": [
      "0: train=0.8465 eval=2.3092\n"
     ]
    },
    {
     "name": "stderr",
     "output_type": "stream",
     "text": [
      "100%|██████████| 247/247 [00:47<00:00,  5.22it/s]\n"
     ]
    },
    {
     "name": "stdout",
     "output_type": "stream",
     "text": [
      "500: train=0.8378 eval=2.4255\n"
     ]
    },
    {
     "name": "stderr",
     "output_type": "stream",
     "text": [
      "100%|██████████| 247/247 [00:47<00:00,  5.21it/s]\n"
     ]
    },
    {
     "name": "stdout",
     "output_type": "stream",
     "text": [
      "1000: train=0.8293 eval=2.3895\n"
     ]
    },
    {
     "name": "stderr",
     "output_type": "stream",
     "text": [
      "100%|██████████| 247/247 [00:47<00:00,  5.23it/s]\n"
     ]
    },
    {
     "name": "stdout",
     "output_type": "stream",
     "text": [
      "1500: train=0.8215 eval=2.2986\n"
     ]
    },
    {
     "name": "stderr",
     "output_type": "stream",
     "text": [
      "100%|██████████| 247/247 [00:47<00:00,  5.22it/s]\n"
     ]
    },
    {
     "name": "stdout",
     "output_type": "stream",
     "text": [
      "2000: train=0.8140 eval=2.3706\n"
     ]
    },
    {
     "name": "stderr",
     "output_type": "stream",
     "text": [
      "100%|██████████| 247/247 [00:47<00:00,  5.22it/s]\n"
     ]
    },
    {
     "name": "stdout",
     "output_type": "stream",
     "text": [
      "2500: train=0.8069 eval=2.3396\n"
     ]
    },
    {
     "name": "stderr",
     "output_type": "stream",
     "text": [
      "100%|██████████| 247/247 [00:47<00:00,  5.21it/s]\n"
     ]
    },
    {
     "name": "stdout",
     "output_type": "stream",
     "text": [
      "3000: train=0.8000 eval=2.4008\n"
     ]
    },
    {
     "name": "stderr",
     "output_type": "stream",
     "text": [
      "100%|██████████| 247/247 [00:47<00:00,  5.23it/s]\n"
     ]
    },
    {
     "name": "stdout",
     "output_type": "stream",
     "text": [
      "3500: train=0.7934 eval=2.3547\n"
     ]
    },
    {
     "name": "stderr",
     "output_type": "stream",
     "text": [
      "100%|██████████| 247/247 [00:47<00:00,  5.22it/s]\n"
     ]
    },
    {
     "name": "stdout",
     "output_type": "stream",
     "text": [
      "4000: train=0.7869 eval=2.3443\n"
     ]
    },
    {
     "name": "stderr",
     "output_type": "stream",
     "text": [
      "100%|██████████| 247/247 [00:47<00:00,  5.23it/s]\n"
     ]
    },
    {
     "name": "stdout",
     "output_type": "stream",
     "text": [
      "4500: train=0.7808 eval=2.3722\n"
     ]
    },
    {
     "name": "stderr",
     "output_type": "stream",
     "text": [
      "100%|██████████| 247/247 [00:47<00:00,  5.20it/s]\n"
     ]
    },
    {
     "name": "stdout",
     "output_type": "stream",
     "text": [
      "0: train=0.7786 eval=2.3584\n"
     ]
    },
    {
     "name": "stderr",
     "output_type": "stream",
     "text": [
      "100%|██████████| 247/247 [00:47<00:00,  5.22it/s]\n"
     ]
    },
    {
     "name": "stdout",
     "output_type": "stream",
     "text": [
      "500: train=0.7711 eval=2.4874\n"
     ]
    },
    {
     "name": "stderr",
     "output_type": "stream",
     "text": [
      "100%|██████████| 247/247 [00:47<00:00,  5.22it/s]\n"
     ]
    },
    {
     "name": "stdout",
     "output_type": "stream",
     "text": [
      "1000: train=0.7639 eval=2.4811\n"
     ]
    },
    {
     "name": "stderr",
     "output_type": "stream",
     "text": [
      "100%|██████████| 247/247 [00:47<00:00,  5.22it/s]\n"
     ]
    },
    {
     "name": "stdout",
     "output_type": "stream",
     "text": [
      "1500: train=0.7569 eval=2.4553\n"
     ]
    },
    {
     "name": "stderr",
     "output_type": "stream",
     "text": [
      "100%|██████████| 247/247 [00:47<00:00,  5.23it/s]\n"
     ]
    },
    {
     "name": "stdout",
     "output_type": "stream",
     "text": [
      "2000: train=0.7502 eval=2.4451\n"
     ]
    },
    {
     "name": "stderr",
     "output_type": "stream",
     "text": [
      "100%|██████████| 247/247 [00:47<00:00,  5.22it/s]\n"
     ]
    },
    {
     "name": "stdout",
     "output_type": "stream",
     "text": [
      "2500: train=0.7438 eval=2.4781\n"
     ]
    },
    {
     "name": "stderr",
     "output_type": "stream",
     "text": [
      "100%|██████████| 247/247 [00:47<00:00,  5.21it/s]\n"
     ]
    },
    {
     "name": "stdout",
     "output_type": "stream",
     "text": [
      "3000: train=0.7377 eval=2.4218\n"
     ]
    },
    {
     "name": "stderr",
     "output_type": "stream",
     "text": [
      "100%|██████████| 247/247 [00:47<00:00,  5.22it/s]\n"
     ]
    },
    {
     "name": "stdout",
     "output_type": "stream",
     "text": [
      "3500: train=0.7316 eval=2.4758\n"
     ]
    },
    {
     "name": "stderr",
     "output_type": "stream",
     "text": [
      "100%|██████████| 247/247 [00:47<00:00,  5.23it/s]\n"
     ]
    },
    {
     "name": "stdout",
     "output_type": "stream",
     "text": [
      "4000: train=0.7258 eval=2.4399\n"
     ]
    },
    {
     "name": "stderr",
     "output_type": "stream",
     "text": [
      "100%|██████████| 247/247 [00:47<00:00,  5.23it/s]\n"
     ]
    },
    {
     "name": "stdout",
     "output_type": "stream",
     "text": [
      "4500: train=0.7202 eval=2.4171\n"
     ]
    },
    {
     "name": "stderr",
     "output_type": "stream",
     "text": [
      "100%|██████████| 247/247 [00:47<00:00,  5.22it/s]\n"
     ]
    },
    {
     "name": "stdout",
     "output_type": "stream",
     "text": [
      "0: train=0.7183 eval=2.3809\n"
     ]
    },
    {
     "name": "stderr",
     "output_type": "stream",
     "text": [
      "100%|██████████| 247/247 [00:47<00:00,  5.23it/s]\n"
     ]
    },
    {
     "name": "stdout",
     "output_type": "stream",
     "text": [
      "500: train=0.7118 eval=2.6432\n"
     ]
    },
    {
     "name": "stderr",
     "output_type": "stream",
     "text": [
      "100%|██████████| 247/247 [00:47<00:00,  5.21it/s]\n"
     ]
    },
    {
     "name": "stdout",
     "output_type": "stream",
     "text": [
      "1000: train=0.7054 eval=2.5020\n"
     ]
    },
    {
     "name": "stderr",
     "output_type": "stream",
     "text": [
      "100%|██████████| 247/247 [00:47<00:00,  5.22it/s]\n"
     ]
    },
    {
     "name": "stdout",
     "output_type": "stream",
     "text": [
      "1500: train=0.6993 eval=2.6095\n"
     ]
    },
    {
     "name": "stderr",
     "output_type": "stream",
     "text": [
      "100%|██████████| 247/247 [00:47<00:00,  5.21it/s]\n"
     ]
    },
    {
     "name": "stdout",
     "output_type": "stream",
     "text": [
      "2000: train=0.6935 eval=2.5531\n"
     ]
    },
    {
     "name": "stderr",
     "output_type": "stream",
     "text": [
      "100%|██████████| 247/247 [00:47<00:00,  5.23it/s]\n"
     ]
    },
    {
     "name": "stdout",
     "output_type": "stream",
     "text": [
      "2500: train=0.6877 eval=2.5112\n"
     ]
    },
    {
     "name": "stderr",
     "output_type": "stream",
     "text": [
      "100%|██████████| 247/247 [00:47<00:00,  5.23it/s]\n"
     ]
    },
    {
     "name": "stdout",
     "output_type": "stream",
     "text": [
      "3000: train=0.6823 eval=2.5214\n"
     ]
    },
    {
     "name": "stderr",
     "output_type": "stream",
     "text": [
      "100%|██████████| 247/247 [00:47<00:00,  5.23it/s]\n"
     ]
    },
    {
     "name": "stdout",
     "output_type": "stream",
     "text": [
      "3500: train=0.6769 eval=2.5484\n"
     ]
    },
    {
     "name": "stderr",
     "output_type": "stream",
     "text": [
      "100%|██████████| 247/247 [00:47<00:00,  5.21it/s]\n"
     ]
    },
    {
     "name": "stdout",
     "output_type": "stream",
     "text": [
      "4000: train=0.6718 eval=2.4670\n"
     ]
    },
    {
     "name": "stderr",
     "output_type": "stream",
     "text": [
      "100%|██████████| 247/247 [00:47<00:00,  5.22it/s]\n"
     ]
    },
    {
     "name": "stdout",
     "output_type": "stream",
     "text": [
      "4500: train=0.6666 eval=2.4911\n"
     ]
    },
    {
     "name": "stderr",
     "output_type": "stream",
     "text": [
      "100%|██████████| 247/247 [00:47<00:00,  5.21it/s]\n"
     ]
    },
    {
     "name": "stdout",
     "output_type": "stream",
     "text": [
      "0: train=0.6649 eval=2.5383\n"
     ]
    },
    {
     "name": "stderr",
     "output_type": "stream",
     "text": [
      "100%|██████████| 247/247 [00:47<00:00,  5.22it/s]\n"
     ]
    },
    {
     "name": "stdout",
     "output_type": "stream",
     "text": [
      "500: train=0.6592 eval=2.6691\n"
     ]
    },
    {
     "name": "stderr",
     "output_type": "stream",
     "text": [
      "100%|██████████| 247/247 [00:47<00:00,  5.20it/s]\n"
     ]
    },
    {
     "name": "stdout",
     "output_type": "stream",
     "text": [
      "1000: train=0.6537 eval=2.6377\n"
     ]
    },
    {
     "name": "stderr",
     "output_type": "stream",
     "text": [
      "100%|██████████| 247/247 [00:47<00:00,  5.22it/s]\n"
     ]
    },
    {
     "name": "stdout",
     "output_type": "stream",
     "text": [
      "1500: train=0.6484 eval=2.5989\n"
     ]
    },
    {
     "name": "stderr",
     "output_type": "stream",
     "text": [
      "100%|██████████| 247/247 [00:47<00:00,  5.22it/s]\n"
     ]
    },
    {
     "name": "stdout",
     "output_type": "stream",
     "text": [
      "2000: train=0.6432 eval=2.5954\n"
     ]
    },
    {
     "name": "stderr",
     "output_type": "stream",
     "text": [
      "100%|██████████| 247/247 [00:47<00:00,  5.22it/s]\n"
     ]
    },
    {
     "name": "stdout",
     "output_type": "stream",
     "text": [
      "2500: train=0.6382 eval=2.6096\n"
     ]
    },
    {
     "name": "stderr",
     "output_type": "stream",
     "text": [
      "100%|██████████| 247/247 [00:47<00:00,  5.21it/s]\n"
     ]
    },
    {
     "name": "stdout",
     "output_type": "stream",
     "text": [
      "3000: train=0.6333 eval=2.6362\n"
     ]
    },
    {
     "name": "stderr",
     "output_type": "stream",
     "text": [
      "100%|██████████| 247/247 [00:47<00:00,  5.22it/s]\n"
     ]
    },
    {
     "name": "stdout",
     "output_type": "stream",
     "text": [
      "3500: train=0.6285 eval=2.5774\n"
     ]
    },
    {
     "name": "stderr",
     "output_type": "stream",
     "text": [
      "100%|██████████| 247/247 [00:47<00:00,  5.21it/s]\n"
     ]
    },
    {
     "name": "stdout",
     "output_type": "stream",
     "text": [
      "4000: train=0.6238 eval=2.5957\n"
     ]
    },
    {
     "name": "stderr",
     "output_type": "stream",
     "text": [
      "100%|██████████| 247/247 [00:47<00:00,  5.23it/s]\n"
     ]
    },
    {
     "name": "stdout",
     "output_type": "stream",
     "text": [
      "4500: train=0.6192 eval=2.5667\n"
     ]
    },
    {
     "name": "stderr",
     "output_type": "stream",
     "text": [
      "100%|██████████| 247/247 [00:47<00:00,  5.20it/s]\n"
     ]
    },
    {
     "name": "stdout",
     "output_type": "stream",
     "text": [
      "0: train=0.6176 eval=2.5969\n"
     ]
    },
    {
     "name": "stderr",
     "output_type": "stream",
     "text": [
      "100%|██████████| 247/247 [00:47<00:00,  5.19it/s]\n"
     ]
    },
    {
     "name": "stdout",
     "output_type": "stream",
     "text": [
      "500: train=0.6127 eval=2.6527\n"
     ]
    },
    {
     "name": "stderr",
     "output_type": "stream",
     "text": [
      "100%|██████████| 247/247 [00:47<00:00,  5.21it/s]\n"
     ]
    },
    {
     "name": "stdout",
     "output_type": "stream",
     "text": [
      "1000: train=0.6079 eval=2.6902\n"
     ]
    },
    {
     "name": "stderr",
     "output_type": "stream",
     "text": [
      "100%|██████████| 247/247 [00:47<00:00,  5.22it/s]\n"
     ]
    },
    {
     "name": "stdout",
     "output_type": "stream",
     "text": [
      "1500: train=0.6031 eval=2.7337\n"
     ]
    },
    {
     "name": "stderr",
     "output_type": "stream",
     "text": [
      "100%|██████████| 247/247 [00:47<00:00,  5.22it/s]\n"
     ]
    },
    {
     "name": "stdout",
     "output_type": "stream",
     "text": [
      "2000: train=0.5986 eval=2.6854\n"
     ]
    },
    {
     "name": "stderr",
     "output_type": "stream",
     "text": [
      "100%|██████████| 247/247 [00:47<00:00,  5.21it/s]\n"
     ]
    },
    {
     "name": "stdout",
     "output_type": "stream",
     "text": [
      "2500: train=0.5941 eval=2.6326\n"
     ]
    },
    {
     "name": "stderr",
     "output_type": "stream",
     "text": [
      "100%|██████████| 247/247 [00:47<00:00,  5.22it/s]\n"
     ]
    },
    {
     "name": "stdout",
     "output_type": "stream",
     "text": [
      "3000: train=0.5897 eval=2.7563\n"
     ]
    },
    {
     "name": "stderr",
     "output_type": "stream",
     "text": [
      "100%|██████████| 247/247 [00:47<00:00,  5.20it/s]\n"
     ]
    },
    {
     "name": "stdout",
     "output_type": "stream",
     "text": [
      "3500: train=0.5854 eval=2.6438\n"
     ]
    },
    {
     "name": "stderr",
     "output_type": "stream",
     "text": [
      "100%|██████████| 247/247 [00:47<00:00,  5.20it/s]\n"
     ]
    },
    {
     "name": "stdout",
     "output_type": "stream",
     "text": [
      "4000: train=0.5812 eval=2.7424\n"
     ]
    },
    {
     "name": "stderr",
     "output_type": "stream",
     "text": [
      "100%|██████████| 247/247 [00:47<00:00,  5.20it/s]\n"
     ]
    },
    {
     "name": "stdout",
     "output_type": "stream",
     "text": [
      "4500: train=0.5771 eval=2.7523\n"
     ]
    },
    {
     "name": "stderr",
     "output_type": "stream",
     "text": [
      "100%|██████████| 247/247 [00:47<00:00,  5.19it/s]\n"
     ]
    },
    {
     "name": "stdout",
     "output_type": "stream",
     "text": [
      "0: train=0.5756 eval=2.6602\n"
     ]
    },
    {
     "name": "stderr",
     "output_type": "stream",
     "text": [
      "100%|██████████| 247/247 [00:47<00:00,  5.20it/s]\n"
     ]
    },
    {
     "name": "stdout",
     "output_type": "stream",
     "text": [
      "500: train=0.5713 eval=2.7739\n"
     ]
    },
    {
     "name": "stderr",
     "output_type": "stream",
     "text": [
      "100%|██████████| 247/247 [00:47<00:00,  5.21it/s]\n"
     ]
    },
    {
     "name": "stdout",
     "output_type": "stream",
     "text": [
      "1000: train=0.5670 eval=2.7831\n"
     ]
    },
    {
     "name": "stderr",
     "output_type": "stream",
     "text": [
      "100%|██████████| 247/247 [00:47<00:00,  5.20it/s]\n"
     ]
    },
    {
     "name": "stdout",
     "output_type": "stream",
     "text": [
      "1500: train=0.5629 eval=2.7570\n"
     ]
    },
    {
     "name": "stderr",
     "output_type": "stream",
     "text": [
      "100%|██████████| 247/247 [00:47<00:00,  5.20it/s]\n"
     ]
    },
    {
     "name": "stdout",
     "output_type": "stream",
     "text": [
      "2000: train=0.5588 eval=2.7411\n"
     ]
    },
    {
     "name": "stderr",
     "output_type": "stream",
     "text": [
      "100%|██████████| 247/247 [00:47<00:00,  5.19it/s]\n"
     ]
    },
    {
     "name": "stdout",
     "output_type": "stream",
     "text": [
      "2500: train=0.5549 eval=2.7483\n"
     ]
    },
    {
     "name": "stderr",
     "output_type": "stream",
     "text": [
      "100%|██████████| 247/247 [00:47<00:00,  5.21it/s]\n"
     ]
    },
    {
     "name": "stdout",
     "output_type": "stream",
     "text": [
      "3000: train=0.5510 eval=2.7521\n"
     ]
    },
    {
     "name": "stderr",
     "output_type": "stream",
     "text": [
      "100%|██████████| 247/247 [00:47<00:00,  5.20it/s]\n"
     ]
    },
    {
     "name": "stdout",
     "output_type": "stream",
     "text": [
      "3500: train=0.5472 eval=2.6990\n"
     ]
    },
    {
     "name": "stderr",
     "output_type": "stream",
     "text": [
      "100%|██████████| 247/247 [00:47<00:00,  5.18it/s]\n"
     ]
    },
    {
     "name": "stdout",
     "output_type": "stream",
     "text": [
      "4000: train=0.5434 eval=2.7389\n"
     ]
    },
    {
     "name": "stderr",
     "output_type": "stream",
     "text": [
      "100%|██████████| 247/247 [00:47<00:00,  5.21it/s]\n"
     ]
    },
    {
     "name": "stdout",
     "output_type": "stream",
     "text": [
      "4500: train=0.5397 eval=2.7571\n"
     ]
    },
    {
     "name": "stderr",
     "output_type": "stream",
     "text": [
      "100%|██████████| 247/247 [00:47<00:00,  5.17it/s]\n"
     ]
    },
    {
     "name": "stdout",
     "output_type": "stream",
     "text": [
      "0: train=0.5384 eval=2.7553\n"
     ]
    },
    {
     "name": "stderr",
     "output_type": "stream",
     "text": [
      "100%|██████████| 247/247 [00:47<00:00,  5.19it/s]\n"
     ]
    },
    {
     "name": "stdout",
     "output_type": "stream",
     "text": [
      "500: train=0.5346 eval=2.7994\n"
     ]
    },
    {
     "name": "stderr",
     "output_type": "stream",
     "text": [
      "100%|██████████| 247/247 [00:47<00:00,  5.21it/s]\n"
     ]
    },
    {
     "name": "stdout",
     "output_type": "stream",
     "text": [
      "1000: train=0.5308 eval=2.8201\n"
     ]
    },
    {
     "name": "stderr",
     "output_type": "stream",
     "text": [
      "100%|██████████| 247/247 [00:47<00:00,  5.22it/s]\n"
     ]
    },
    {
     "name": "stdout",
     "output_type": "stream",
     "text": [
      "1500: train=0.5272 eval=2.8524\n"
     ]
    },
    {
     "name": "stderr",
     "output_type": "stream",
     "text": [
      "100%|██████████| 247/247 [00:47<00:00,  5.20it/s]\n"
     ]
    },
    {
     "name": "stdout",
     "output_type": "stream",
     "text": [
      "2000: train=0.5236 eval=2.8018\n"
     ]
    },
    {
     "name": "stderr",
     "output_type": "stream",
     "text": [
      "100%|██████████| 247/247 [00:47<00:00,  5.19it/s]\n"
     ]
    },
    {
     "name": "stdout",
     "output_type": "stream",
     "text": [
      "2500: train=0.5201 eval=2.7283\n"
     ]
    },
    {
     "name": "stderr",
     "output_type": "stream",
     "text": [
      "100%|██████████| 247/247 [00:47<00:00,  5.20it/s]\n"
     ]
    },
    {
     "name": "stdout",
     "output_type": "stream",
     "text": [
      "3000: train=0.5166 eval=2.7587\n"
     ]
    },
    {
     "name": "stderr",
     "output_type": "stream",
     "text": [
      "100%|██████████| 247/247 [00:47<00:00,  5.19it/s]\n"
     ]
    },
    {
     "name": "stdout",
     "output_type": "stream",
     "text": [
      "3500: train=0.5132 eval=2.7629\n"
     ]
    },
    {
     "name": "stderr",
     "output_type": "stream",
     "text": [
      "100%|██████████| 247/247 [00:47<00:00,  5.20it/s]\n"
     ]
    },
    {
     "name": "stdout",
     "output_type": "stream",
     "text": [
      "4000: train=0.5100 eval=2.7428\n"
     ]
    },
    {
     "name": "stderr",
     "output_type": "stream",
     "text": [
      "100%|██████████| 247/247 [00:47<00:00,  5.18it/s]\n"
     ]
    },
    {
     "name": "stdout",
     "output_type": "stream",
     "text": [
      "4500: train=0.5067 eval=2.8410\n"
     ]
    },
    {
     "name": "stderr",
     "output_type": "stream",
     "text": [
      "100%|██████████| 247/247 [00:47<00:00,  5.16it/s]\n"
     ]
    },
    {
     "name": "stdout",
     "output_type": "stream",
     "text": [
      "0: train=0.5056 eval=2.8088\n"
     ]
    },
    {
     "name": "stderr",
     "output_type": "stream",
     "text": [
      "100%|██████████| 247/247 [00:47<00:00,  5.19it/s]\n"
     ]
    },
    {
     "name": "stdout",
     "output_type": "stream",
     "text": [
      "500: train=0.5022 eval=2.8823\n"
     ]
    },
    {
     "name": "stderr",
     "output_type": "stream",
     "text": [
      "100%|██████████| 247/247 [00:47<00:00,  5.18it/s]\n"
     ]
    },
    {
     "name": "stdout",
     "output_type": "stream",
     "text": [
      "1000: train=0.4989 eval=2.9395\n"
     ]
    },
    {
     "name": "stderr",
     "output_type": "stream",
     "text": [
      "100%|██████████| 247/247 [00:47<00:00,  5.19it/s]\n"
     ]
    },
    {
     "name": "stdout",
     "output_type": "stream",
     "text": [
      "1500: train=0.4956 eval=2.9219\n"
     ]
    },
    {
     "name": "stderr",
     "output_type": "stream",
     "text": [
      "100%|██████████| 247/247 [00:47<00:00,  5.19it/s]\n"
     ]
    },
    {
     "name": "stdout",
     "output_type": "stream",
     "text": [
      "2000: train=0.4924 eval=2.8388\n"
     ]
    },
    {
     "name": "stderr",
     "output_type": "stream",
     "text": [
      "100%|██████████| 247/247 [00:47<00:00,  5.18it/s]\n"
     ]
    },
    {
     "name": "stdout",
     "output_type": "stream",
     "text": [
      "2500: train=0.4893 eval=2.9298\n"
     ]
    },
    {
     "name": "stderr",
     "output_type": "stream",
     "text": [
      "100%|██████████| 247/247 [00:47<00:00,  5.18it/s]\n"
     ]
    },
    {
     "name": "stdout",
     "output_type": "stream",
     "text": [
      "3000: train=0.4862 eval=2.9141\n"
     ]
    },
    {
     "name": "stderr",
     "output_type": "stream",
     "text": [
      "100%|██████████| 247/247 [00:47<00:00,  5.18it/s]\n"
     ]
    },
    {
     "name": "stdout",
     "output_type": "stream",
     "text": [
      "3500: train=0.4831 eval=2.8809\n"
     ]
    },
    {
     "name": "stderr",
     "output_type": "stream",
     "text": [
      "100%|██████████| 247/247 [00:47<00:00,  5.19it/s]\n"
     ]
    },
    {
     "name": "stdout",
     "output_type": "stream",
     "text": [
      "4000: train=0.4801 eval=2.9031\n"
     ]
    },
    {
     "name": "stderr",
     "output_type": "stream",
     "text": [
      "100%|██████████| 247/247 [00:47<00:00,  5.19it/s]\n"
     ]
    },
    {
     "name": "stdout",
     "output_type": "stream",
     "text": [
      "4500: train=0.4772 eval=2.8781\n"
     ]
    },
    {
     "name": "stderr",
     "output_type": "stream",
     "text": [
      "100%|██████████| 247/247 [00:47<00:00,  5.19it/s]\n"
     ]
    },
    {
     "name": "stdout",
     "output_type": "stream",
     "text": [
      "0: train=0.4762 eval=2.8938\n"
     ]
    },
    {
     "name": "stderr",
     "output_type": "stream",
     "text": [
      "100%|██████████| 247/247 [00:47<00:00,  5.18it/s]\n"
     ]
    },
    {
     "name": "stdout",
     "output_type": "stream",
     "text": [
      "500: train=0.4732 eval=2.9807\n"
     ]
    },
    {
     "name": "stderr",
     "output_type": "stream",
     "text": [
      "100%|██████████| 247/247 [00:47<00:00,  5.20it/s]\n"
     ]
    },
    {
     "name": "stdout",
     "output_type": "stream",
     "text": [
      "1000: train=0.4702 eval=2.9487\n"
     ]
    },
    {
     "name": "stderr",
     "output_type": "stream",
     "text": [
      "100%|██████████| 247/247 [00:47<00:00,  5.19it/s]\n"
     ]
    },
    {
     "name": "stdout",
     "output_type": "stream",
     "text": [
      "1500: train=0.4673 eval=2.9186\n"
     ]
    },
    {
     "ename": "KeyboardInterrupt",
     "evalue": "",
     "output_type": "error",
     "traceback": [
      "\u001b[0;31m---------------------------------------------------------------------------\u001b[0m",
      "\u001b[0;31mKeyboardInterrupt\u001b[0m                         Traceback (most recent call last)",
      "Cell \u001b[0;32mIn[28], line 24\u001b[0m\n\u001b[1;32m     22\u001b[0m model\u001b[38;5;241m.\u001b[39mtrain()\n\u001b[1;32m     23\u001b[0m \u001b[38;5;28;01mfor\u001b[39;00m i, local_batch \u001b[38;5;129;01min\u001b[39;00m \u001b[38;5;28menumerate\u001b[39m(train_dl):\n\u001b[0;32m---> 24\u001b[0m     loss \u001b[38;5;241m=\u001b[39m \u001b[43mget_loss\u001b[49m\u001b[43m(\u001b[49m\u001b[43mlocal_batch\u001b[49m\u001b[43m)\u001b[49m\n\u001b[1;32m     26\u001b[0m     \u001b[38;5;66;03m# required to access grad on non leaf nodes\u001b[39;00m\n\u001b[1;32m     27\u001b[0m     \u001b[38;5;28;01mfor\u001b[39;00m p \u001b[38;5;129;01min\u001b[39;00m model\u001b[38;5;241m.\u001b[39maudio_encoder\u001b[38;5;241m.\u001b[39mproj\u001b[38;5;241m.\u001b[39mparameters():\n",
      "Cell \u001b[0;32mIn[27], line 10\u001b[0m, in \u001b[0;36mget_loss\u001b[0;34m(local_batch)\u001b[0m\n\u001b[1;32m      8\u001b[0m \u001b[38;5;66;03m# compute\u001b[39;00m\n\u001b[1;32m      9\u001b[0m \u001b[38;5;28;01mwith\u001b[39;00m torch\u001b[38;5;241m.\u001b[39mamp\u001b[38;5;241m.\u001b[39mautocast(device_type\u001b[38;5;241m=\u001b[39m\u001b[38;5;124m\"\u001b[39m\u001b[38;5;124mcuda\u001b[39m\u001b[38;5;124m\"\u001b[39m, dtype\u001b[38;5;241m=\u001b[39mtorch\u001b[38;5;241m.\u001b[39mfloat16):\n\u001b[0;32m---> 10\u001b[0m     mout, audio_seq \u001b[38;5;241m=\u001b[39m \u001b[43mfwd\u001b[49m\u001b[43m(\u001b[49m\u001b[43mmodel\u001b[49m\u001b[43m,\u001b[49m\u001b[43m \u001b[49m\u001b[43mbatch\u001b[49m\u001b[43m)\u001b[49m\n\u001b[1;32m     12\u001b[0m targets \u001b[38;5;241m=\u001b[39m batch[\u001b[38;5;124m\"\u001b[39m\u001b[38;5;124minput_ids_raw\u001b[39m\u001b[38;5;124m\"\u001b[39m][:]\n\u001b[1;32m     13\u001b[0m target_idxes \u001b[38;5;241m=\u001b[39m torch\u001b[38;5;241m.\u001b[39marange(max_length,device\u001b[38;5;241m=\u001b[39mtargets\u001b[38;5;241m.\u001b[39mdevice)[\u001b[38;5;28;01mNone\u001b[39;00m]\n",
      "Cell \u001b[0;32mIn[18], line 30\u001b[0m, in \u001b[0;36mfwd\u001b[0;34m(self, _batch)\u001b[0m\n\u001b[1;32m     27\u001b[0m     inputs_embeds[i,audio_start[i]:audio_end[i]] \u001b[38;5;241m=\u001b[39m audio_embeds[i]\n\u001b[1;32m     29\u001b[0m \u001b[38;5;66;03m# print('cap_embeds', cap_embeds.mean(dim=1), cap_embeds.std(dim=1))\u001b[39;00m\n\u001b[0;32m---> 30\u001b[0m mout \u001b[38;5;241m=\u001b[39m \u001b[38;5;28;43mself\u001b[39;49m\u001b[38;5;241;43m.\u001b[39;49m\u001b[43mllm\u001b[49m\u001b[43m(\u001b[49m\n\u001b[1;32m     31\u001b[0m \u001b[43m    \u001b[49m\u001b[43minputs_embeds\u001b[49m\u001b[38;5;241;43m=\u001b[39;49m\u001b[43minputs_embeds\u001b[49m\u001b[43m,\u001b[49m\n\u001b[1;32m     32\u001b[0m \u001b[43m    \u001b[49m\u001b[38;5;66;43;03m# output_attentions=True,\u001b[39;49;00m\n\u001b[1;32m     33\u001b[0m \u001b[43m    \u001b[49m\u001b[38;5;66;43;03m# output_hidden_states=True,\u001b[39;49;00m\n\u001b[1;32m     34\u001b[0m \u001b[43m    \u001b[49m\u001b[43mattention_mask\u001b[49m\u001b[38;5;241;43m=\u001b[39;49m\u001b[43mattention_mask\u001b[49m\u001b[43m,\u001b[49m\n\u001b[1;32m     35\u001b[0m \u001b[43m    \u001b[49m\u001b[38;5;66;43;03m# use_cache=False,\u001b[39;49;00m\n\u001b[1;32m     36\u001b[0m \u001b[43m\u001b[49m\u001b[43m)\u001b[49m\n\u001b[1;32m     38\u001b[0m \u001b[38;5;28;01mreturn\u001b[39;00m mout, audio_embeds\u001b[38;5;241m.\u001b[39mshape[\u001b[38;5;241m1\u001b[39m]\n",
      "File \u001b[0;32m/opt/conda/lib/python3.10/site-packages/torch/nn/modules/module.py:1518\u001b[0m, in \u001b[0;36mModule._wrapped_call_impl\u001b[0;34m(self, *args, **kwargs)\u001b[0m\n\u001b[1;32m   1516\u001b[0m     \u001b[38;5;28;01mreturn\u001b[39;00m \u001b[38;5;28mself\u001b[39m\u001b[38;5;241m.\u001b[39m_compiled_call_impl(\u001b[38;5;241m*\u001b[39margs, \u001b[38;5;241m*\u001b[39m\u001b[38;5;241m*\u001b[39mkwargs)  \u001b[38;5;66;03m# type: ignore[misc]\u001b[39;00m\n\u001b[1;32m   1517\u001b[0m \u001b[38;5;28;01melse\u001b[39;00m:\n\u001b[0;32m-> 1518\u001b[0m     \u001b[38;5;28;01mreturn\u001b[39;00m \u001b[38;5;28;43mself\u001b[39;49m\u001b[38;5;241;43m.\u001b[39;49m\u001b[43m_call_impl\u001b[49m\u001b[43m(\u001b[49m\u001b[38;5;241;43m*\u001b[39;49m\u001b[43margs\u001b[49m\u001b[43m,\u001b[49m\u001b[43m \u001b[49m\u001b[38;5;241;43m*\u001b[39;49m\u001b[38;5;241;43m*\u001b[39;49m\u001b[43mkwargs\u001b[49m\u001b[43m)\u001b[49m\n",
      "File \u001b[0;32m/opt/conda/lib/python3.10/site-packages/torch/nn/modules/module.py:1527\u001b[0m, in \u001b[0;36mModule._call_impl\u001b[0;34m(self, *args, **kwargs)\u001b[0m\n\u001b[1;32m   1522\u001b[0m \u001b[38;5;66;03m# If we don't have any hooks, we want to skip the rest of the logic in\u001b[39;00m\n\u001b[1;32m   1523\u001b[0m \u001b[38;5;66;03m# this function, and just call forward.\u001b[39;00m\n\u001b[1;32m   1524\u001b[0m \u001b[38;5;28;01mif\u001b[39;00m \u001b[38;5;129;01mnot\u001b[39;00m (\u001b[38;5;28mself\u001b[39m\u001b[38;5;241m.\u001b[39m_backward_hooks \u001b[38;5;129;01mor\u001b[39;00m \u001b[38;5;28mself\u001b[39m\u001b[38;5;241m.\u001b[39m_backward_pre_hooks \u001b[38;5;129;01mor\u001b[39;00m \u001b[38;5;28mself\u001b[39m\u001b[38;5;241m.\u001b[39m_forward_hooks \u001b[38;5;129;01mor\u001b[39;00m \u001b[38;5;28mself\u001b[39m\u001b[38;5;241m.\u001b[39m_forward_pre_hooks\n\u001b[1;32m   1525\u001b[0m         \u001b[38;5;129;01mor\u001b[39;00m _global_backward_pre_hooks \u001b[38;5;129;01mor\u001b[39;00m _global_backward_hooks\n\u001b[1;32m   1526\u001b[0m         \u001b[38;5;129;01mor\u001b[39;00m _global_forward_hooks \u001b[38;5;129;01mor\u001b[39;00m _global_forward_pre_hooks):\n\u001b[0;32m-> 1527\u001b[0m     \u001b[38;5;28;01mreturn\u001b[39;00m \u001b[43mforward_call\u001b[49m\u001b[43m(\u001b[49m\u001b[38;5;241;43m*\u001b[39;49m\u001b[43margs\u001b[49m\u001b[43m,\u001b[49m\u001b[43m \u001b[49m\u001b[38;5;241;43m*\u001b[39;49m\u001b[38;5;241;43m*\u001b[39;49m\u001b[43mkwargs\u001b[49m\u001b[43m)\u001b[49m\n\u001b[1;32m   1529\u001b[0m \u001b[38;5;28;01mtry\u001b[39;00m:\n\u001b[1;32m   1530\u001b[0m     result \u001b[38;5;241m=\u001b[39m \u001b[38;5;28;01mNone\u001b[39;00m\n",
      "File \u001b[0;32m/opt/conda/lib/python3.10/site-packages/peft/peft_model.py:1091\u001b[0m, in \u001b[0;36mPeftModelForCausalLM.forward\u001b[0;34m(self, input_ids, attention_mask, inputs_embeds, labels, output_attentions, output_hidden_states, return_dict, task_ids, **kwargs)\u001b[0m\n\u001b[1;32m   1089\u001b[0m     \u001b[38;5;28;01mif\u001b[39;00m peft_config\u001b[38;5;241m.\u001b[39mpeft_type \u001b[38;5;241m==\u001b[39m PeftType\u001b[38;5;241m.\u001b[39mPOLY:\n\u001b[1;32m   1090\u001b[0m         kwargs[\u001b[38;5;124m\"\u001b[39m\u001b[38;5;124mtask_ids\u001b[39m\u001b[38;5;124m\"\u001b[39m] \u001b[38;5;241m=\u001b[39m task_ids\n\u001b[0;32m-> 1091\u001b[0m     \u001b[38;5;28;01mreturn\u001b[39;00m \u001b[38;5;28;43mself\u001b[39;49m\u001b[38;5;241;43m.\u001b[39;49m\u001b[43mbase_model\u001b[49m\u001b[43m(\u001b[49m\n\u001b[1;32m   1092\u001b[0m \u001b[43m        \u001b[49m\u001b[43minput_ids\u001b[49m\u001b[38;5;241;43m=\u001b[39;49m\u001b[43minput_ids\u001b[49m\u001b[43m,\u001b[49m\n\u001b[1;32m   1093\u001b[0m \u001b[43m        \u001b[49m\u001b[43mattention_mask\u001b[49m\u001b[38;5;241;43m=\u001b[39;49m\u001b[43mattention_mask\u001b[49m\u001b[43m,\u001b[49m\n\u001b[1;32m   1094\u001b[0m \u001b[43m        \u001b[49m\u001b[43minputs_embeds\u001b[49m\u001b[38;5;241;43m=\u001b[39;49m\u001b[43minputs_embeds\u001b[49m\u001b[43m,\u001b[49m\n\u001b[1;32m   1095\u001b[0m \u001b[43m        \u001b[49m\u001b[43mlabels\u001b[49m\u001b[38;5;241;43m=\u001b[39;49m\u001b[43mlabels\u001b[49m\u001b[43m,\u001b[49m\n\u001b[1;32m   1096\u001b[0m \u001b[43m        \u001b[49m\u001b[43moutput_attentions\u001b[49m\u001b[38;5;241;43m=\u001b[39;49m\u001b[43moutput_attentions\u001b[49m\u001b[43m,\u001b[49m\n\u001b[1;32m   1097\u001b[0m \u001b[43m        \u001b[49m\u001b[43moutput_hidden_states\u001b[49m\u001b[38;5;241;43m=\u001b[39;49m\u001b[43moutput_hidden_states\u001b[49m\u001b[43m,\u001b[49m\n\u001b[1;32m   1098\u001b[0m \u001b[43m        \u001b[49m\u001b[43mreturn_dict\u001b[49m\u001b[38;5;241;43m=\u001b[39;49m\u001b[43mreturn_dict\u001b[49m\u001b[43m,\u001b[49m\n\u001b[1;32m   1099\u001b[0m \u001b[43m        \u001b[49m\u001b[38;5;241;43m*\u001b[39;49m\u001b[38;5;241;43m*\u001b[39;49m\u001b[43mkwargs\u001b[49m\u001b[43m,\u001b[49m\n\u001b[1;32m   1100\u001b[0m \u001b[43m    \u001b[49m\u001b[43m)\u001b[49m\n\u001b[1;32m   1102\u001b[0m batch_size \u001b[38;5;241m=\u001b[39m _get_batch_size(input_ids, inputs_embeds)\n\u001b[1;32m   1103\u001b[0m \u001b[38;5;28;01mif\u001b[39;00m attention_mask \u001b[38;5;129;01mis\u001b[39;00m \u001b[38;5;129;01mnot\u001b[39;00m \u001b[38;5;28;01mNone\u001b[39;00m:\n\u001b[1;32m   1104\u001b[0m     \u001b[38;5;66;03m# concat prompt attention mask\u001b[39;00m\n",
      "File \u001b[0;32m/opt/conda/lib/python3.10/site-packages/torch/nn/modules/module.py:1518\u001b[0m, in \u001b[0;36mModule._wrapped_call_impl\u001b[0;34m(self, *args, **kwargs)\u001b[0m\n\u001b[1;32m   1516\u001b[0m     \u001b[38;5;28;01mreturn\u001b[39;00m \u001b[38;5;28mself\u001b[39m\u001b[38;5;241m.\u001b[39m_compiled_call_impl(\u001b[38;5;241m*\u001b[39margs, \u001b[38;5;241m*\u001b[39m\u001b[38;5;241m*\u001b[39mkwargs)  \u001b[38;5;66;03m# type: ignore[misc]\u001b[39;00m\n\u001b[1;32m   1517\u001b[0m \u001b[38;5;28;01melse\u001b[39;00m:\n\u001b[0;32m-> 1518\u001b[0m     \u001b[38;5;28;01mreturn\u001b[39;00m \u001b[38;5;28;43mself\u001b[39;49m\u001b[38;5;241;43m.\u001b[39;49m\u001b[43m_call_impl\u001b[49m\u001b[43m(\u001b[49m\u001b[38;5;241;43m*\u001b[39;49m\u001b[43margs\u001b[49m\u001b[43m,\u001b[49m\u001b[43m \u001b[49m\u001b[38;5;241;43m*\u001b[39;49m\u001b[38;5;241;43m*\u001b[39;49m\u001b[43mkwargs\u001b[49m\u001b[43m)\u001b[49m\n",
      "File \u001b[0;32m/opt/conda/lib/python3.10/site-packages/torch/nn/modules/module.py:1527\u001b[0m, in \u001b[0;36mModule._call_impl\u001b[0;34m(self, *args, **kwargs)\u001b[0m\n\u001b[1;32m   1522\u001b[0m \u001b[38;5;66;03m# If we don't have any hooks, we want to skip the rest of the logic in\u001b[39;00m\n\u001b[1;32m   1523\u001b[0m \u001b[38;5;66;03m# this function, and just call forward.\u001b[39;00m\n\u001b[1;32m   1524\u001b[0m \u001b[38;5;28;01mif\u001b[39;00m \u001b[38;5;129;01mnot\u001b[39;00m (\u001b[38;5;28mself\u001b[39m\u001b[38;5;241m.\u001b[39m_backward_hooks \u001b[38;5;129;01mor\u001b[39;00m \u001b[38;5;28mself\u001b[39m\u001b[38;5;241m.\u001b[39m_backward_pre_hooks \u001b[38;5;129;01mor\u001b[39;00m \u001b[38;5;28mself\u001b[39m\u001b[38;5;241m.\u001b[39m_forward_hooks \u001b[38;5;129;01mor\u001b[39;00m \u001b[38;5;28mself\u001b[39m\u001b[38;5;241m.\u001b[39m_forward_pre_hooks\n\u001b[1;32m   1525\u001b[0m         \u001b[38;5;129;01mor\u001b[39;00m _global_backward_pre_hooks \u001b[38;5;129;01mor\u001b[39;00m _global_backward_hooks\n\u001b[1;32m   1526\u001b[0m         \u001b[38;5;129;01mor\u001b[39;00m _global_forward_hooks \u001b[38;5;129;01mor\u001b[39;00m _global_forward_pre_hooks):\n\u001b[0;32m-> 1527\u001b[0m     \u001b[38;5;28;01mreturn\u001b[39;00m \u001b[43mforward_call\u001b[49m\u001b[43m(\u001b[49m\u001b[38;5;241;43m*\u001b[39;49m\u001b[43margs\u001b[49m\u001b[43m,\u001b[49m\u001b[43m \u001b[49m\u001b[38;5;241;43m*\u001b[39;49m\u001b[38;5;241;43m*\u001b[39;49m\u001b[43mkwargs\u001b[49m\u001b[43m)\u001b[49m\n\u001b[1;32m   1529\u001b[0m \u001b[38;5;28;01mtry\u001b[39;00m:\n\u001b[1;32m   1530\u001b[0m     result \u001b[38;5;241m=\u001b[39m \u001b[38;5;28;01mNone\u001b[39;00m\n",
      "File \u001b[0;32m/opt/conda/lib/python3.10/site-packages/peft/tuners/tuners_utils.py:160\u001b[0m, in \u001b[0;36mBaseTuner.forward\u001b[0;34m(self, *args, **kwargs)\u001b[0m\n\u001b[1;32m    159\u001b[0m \u001b[38;5;28;01mdef\u001b[39;00m \u001b[38;5;21mforward\u001b[39m(\u001b[38;5;28mself\u001b[39m, \u001b[38;5;241m*\u001b[39margs: Any, \u001b[38;5;241m*\u001b[39m\u001b[38;5;241m*\u001b[39mkwargs: Any):\n\u001b[0;32m--> 160\u001b[0m     \u001b[38;5;28;01mreturn\u001b[39;00m \u001b[38;5;28;43mself\u001b[39;49m\u001b[38;5;241;43m.\u001b[39;49m\u001b[43mmodel\u001b[49m\u001b[38;5;241;43m.\u001b[39;49m\u001b[43mforward\u001b[49m\u001b[43m(\u001b[49m\u001b[38;5;241;43m*\u001b[39;49m\u001b[43margs\u001b[49m\u001b[43m,\u001b[49m\u001b[43m \u001b[49m\u001b[38;5;241;43m*\u001b[39;49m\u001b[38;5;241;43m*\u001b[39;49m\u001b[43mkwargs\u001b[49m\u001b[43m)\u001b[49m\n",
      "File \u001b[0;32m/opt/conda/lib/python3.10/site-packages/accelerate/hooks.py:165\u001b[0m, in \u001b[0;36madd_hook_to_module.<locals>.new_forward\u001b[0;34m(module, *args, **kwargs)\u001b[0m\n\u001b[1;32m    163\u001b[0m         output \u001b[38;5;241m=\u001b[39m module\u001b[38;5;241m.\u001b[39m_old_forward(\u001b[38;5;241m*\u001b[39margs, \u001b[38;5;241m*\u001b[39m\u001b[38;5;241m*\u001b[39mkwargs)\n\u001b[1;32m    164\u001b[0m \u001b[38;5;28;01melse\u001b[39;00m:\n\u001b[0;32m--> 165\u001b[0m     output \u001b[38;5;241m=\u001b[39m \u001b[43mmodule\u001b[49m\u001b[38;5;241;43m.\u001b[39;49m\u001b[43m_old_forward\u001b[49m\u001b[43m(\u001b[49m\u001b[38;5;241;43m*\u001b[39;49m\u001b[43margs\u001b[49m\u001b[43m,\u001b[49m\u001b[43m \u001b[49m\u001b[38;5;241;43m*\u001b[39;49m\u001b[38;5;241;43m*\u001b[39;49m\u001b[43mkwargs\u001b[49m\u001b[43m)\u001b[49m\n\u001b[1;32m    166\u001b[0m \u001b[38;5;28;01mreturn\u001b[39;00m module\u001b[38;5;241m.\u001b[39m_hf_hook\u001b[38;5;241m.\u001b[39mpost_forward(module, output)\n",
      "File \u001b[0;32m/opt/conda/lib/python3.10/site-packages/transformers/models/mistral/modeling_mistral.py:1154\u001b[0m, in \u001b[0;36mMistralForCausalLM.forward\u001b[0;34m(self, input_ids, attention_mask, position_ids, past_key_values, inputs_embeds, labels, use_cache, output_attentions, output_hidden_states, return_dict)\u001b[0m\n\u001b[1;32m   1151\u001b[0m return_dict \u001b[38;5;241m=\u001b[39m return_dict \u001b[38;5;28;01mif\u001b[39;00m return_dict \u001b[38;5;129;01mis\u001b[39;00m \u001b[38;5;129;01mnot\u001b[39;00m \u001b[38;5;28;01mNone\u001b[39;00m \u001b[38;5;28;01melse\u001b[39;00m \u001b[38;5;28mself\u001b[39m\u001b[38;5;241m.\u001b[39mconfig\u001b[38;5;241m.\u001b[39muse_return_dict\n\u001b[1;32m   1153\u001b[0m \u001b[38;5;66;03m# decoder outputs consists of (dec_features, layer_state, dec_hidden, dec_attn)\u001b[39;00m\n\u001b[0;32m-> 1154\u001b[0m outputs \u001b[38;5;241m=\u001b[39m \u001b[38;5;28;43mself\u001b[39;49m\u001b[38;5;241;43m.\u001b[39;49m\u001b[43mmodel\u001b[49m\u001b[43m(\u001b[49m\n\u001b[1;32m   1155\u001b[0m \u001b[43m    \u001b[49m\u001b[43minput_ids\u001b[49m\u001b[38;5;241;43m=\u001b[39;49m\u001b[43minput_ids\u001b[49m\u001b[43m,\u001b[49m\n\u001b[1;32m   1156\u001b[0m \u001b[43m    \u001b[49m\u001b[43mattention_mask\u001b[49m\u001b[38;5;241;43m=\u001b[39;49m\u001b[43mattention_mask\u001b[49m\u001b[43m,\u001b[49m\n\u001b[1;32m   1157\u001b[0m \u001b[43m    \u001b[49m\u001b[43mposition_ids\u001b[49m\u001b[38;5;241;43m=\u001b[39;49m\u001b[43mposition_ids\u001b[49m\u001b[43m,\u001b[49m\n\u001b[1;32m   1158\u001b[0m \u001b[43m    \u001b[49m\u001b[43mpast_key_values\u001b[49m\u001b[38;5;241;43m=\u001b[39;49m\u001b[43mpast_key_values\u001b[49m\u001b[43m,\u001b[49m\n\u001b[1;32m   1159\u001b[0m \u001b[43m    \u001b[49m\u001b[43minputs_embeds\u001b[49m\u001b[38;5;241;43m=\u001b[39;49m\u001b[43minputs_embeds\u001b[49m\u001b[43m,\u001b[49m\n\u001b[1;32m   1160\u001b[0m \u001b[43m    \u001b[49m\u001b[43muse_cache\u001b[49m\u001b[38;5;241;43m=\u001b[39;49m\u001b[43muse_cache\u001b[49m\u001b[43m,\u001b[49m\n\u001b[1;32m   1161\u001b[0m \u001b[43m    \u001b[49m\u001b[43moutput_attentions\u001b[49m\u001b[38;5;241;43m=\u001b[39;49m\u001b[43moutput_attentions\u001b[49m\u001b[43m,\u001b[49m\n\u001b[1;32m   1162\u001b[0m \u001b[43m    \u001b[49m\u001b[43moutput_hidden_states\u001b[49m\u001b[38;5;241;43m=\u001b[39;49m\u001b[43moutput_hidden_states\u001b[49m\u001b[43m,\u001b[49m\n\u001b[1;32m   1163\u001b[0m \u001b[43m    \u001b[49m\u001b[43mreturn_dict\u001b[49m\u001b[38;5;241;43m=\u001b[39;49m\u001b[43mreturn_dict\u001b[49m\u001b[43m,\u001b[49m\n\u001b[1;32m   1164\u001b[0m \u001b[43m\u001b[49m\u001b[43m)\u001b[49m\n\u001b[1;32m   1166\u001b[0m hidden_states \u001b[38;5;241m=\u001b[39m outputs[\u001b[38;5;241m0\u001b[39m]\n\u001b[1;32m   1167\u001b[0m logits \u001b[38;5;241m=\u001b[39m \u001b[38;5;28mself\u001b[39m\u001b[38;5;241m.\u001b[39mlm_head(hidden_states)\n",
      "File \u001b[0;32m/opt/conda/lib/python3.10/site-packages/torch/nn/modules/module.py:1518\u001b[0m, in \u001b[0;36mModule._wrapped_call_impl\u001b[0;34m(self, *args, **kwargs)\u001b[0m\n\u001b[1;32m   1516\u001b[0m     \u001b[38;5;28;01mreturn\u001b[39;00m \u001b[38;5;28mself\u001b[39m\u001b[38;5;241m.\u001b[39m_compiled_call_impl(\u001b[38;5;241m*\u001b[39margs, \u001b[38;5;241m*\u001b[39m\u001b[38;5;241m*\u001b[39mkwargs)  \u001b[38;5;66;03m# type: ignore[misc]\u001b[39;00m\n\u001b[1;32m   1517\u001b[0m \u001b[38;5;28;01melse\u001b[39;00m:\n\u001b[0;32m-> 1518\u001b[0m     \u001b[38;5;28;01mreturn\u001b[39;00m \u001b[38;5;28;43mself\u001b[39;49m\u001b[38;5;241;43m.\u001b[39;49m\u001b[43m_call_impl\u001b[49m\u001b[43m(\u001b[49m\u001b[38;5;241;43m*\u001b[39;49m\u001b[43margs\u001b[49m\u001b[43m,\u001b[49m\u001b[43m \u001b[49m\u001b[38;5;241;43m*\u001b[39;49m\u001b[38;5;241;43m*\u001b[39;49m\u001b[43mkwargs\u001b[49m\u001b[43m)\u001b[49m\n",
      "File \u001b[0;32m/opt/conda/lib/python3.10/site-packages/torch/nn/modules/module.py:1527\u001b[0m, in \u001b[0;36mModule._call_impl\u001b[0;34m(self, *args, **kwargs)\u001b[0m\n\u001b[1;32m   1522\u001b[0m \u001b[38;5;66;03m# If we don't have any hooks, we want to skip the rest of the logic in\u001b[39;00m\n\u001b[1;32m   1523\u001b[0m \u001b[38;5;66;03m# this function, and just call forward.\u001b[39;00m\n\u001b[1;32m   1524\u001b[0m \u001b[38;5;28;01mif\u001b[39;00m \u001b[38;5;129;01mnot\u001b[39;00m (\u001b[38;5;28mself\u001b[39m\u001b[38;5;241m.\u001b[39m_backward_hooks \u001b[38;5;129;01mor\u001b[39;00m \u001b[38;5;28mself\u001b[39m\u001b[38;5;241m.\u001b[39m_backward_pre_hooks \u001b[38;5;129;01mor\u001b[39;00m \u001b[38;5;28mself\u001b[39m\u001b[38;5;241m.\u001b[39m_forward_hooks \u001b[38;5;129;01mor\u001b[39;00m \u001b[38;5;28mself\u001b[39m\u001b[38;5;241m.\u001b[39m_forward_pre_hooks\n\u001b[1;32m   1525\u001b[0m         \u001b[38;5;129;01mor\u001b[39;00m _global_backward_pre_hooks \u001b[38;5;129;01mor\u001b[39;00m _global_backward_hooks\n\u001b[1;32m   1526\u001b[0m         \u001b[38;5;129;01mor\u001b[39;00m _global_forward_hooks \u001b[38;5;129;01mor\u001b[39;00m _global_forward_pre_hooks):\n\u001b[0;32m-> 1527\u001b[0m     \u001b[38;5;28;01mreturn\u001b[39;00m \u001b[43mforward_call\u001b[49m\u001b[43m(\u001b[49m\u001b[38;5;241;43m*\u001b[39;49m\u001b[43margs\u001b[49m\u001b[43m,\u001b[49m\u001b[43m \u001b[49m\u001b[38;5;241;43m*\u001b[39;49m\u001b[38;5;241;43m*\u001b[39;49m\u001b[43mkwargs\u001b[49m\u001b[43m)\u001b[49m\n\u001b[1;32m   1529\u001b[0m \u001b[38;5;28;01mtry\u001b[39;00m:\n\u001b[1;32m   1530\u001b[0m     result \u001b[38;5;241m=\u001b[39m \u001b[38;5;28;01mNone\u001b[39;00m\n",
      "File \u001b[0;32m/opt/conda/lib/python3.10/site-packages/accelerate/hooks.py:165\u001b[0m, in \u001b[0;36madd_hook_to_module.<locals>.new_forward\u001b[0;34m(module, *args, **kwargs)\u001b[0m\n\u001b[1;32m    163\u001b[0m         output \u001b[38;5;241m=\u001b[39m module\u001b[38;5;241m.\u001b[39m_old_forward(\u001b[38;5;241m*\u001b[39margs, \u001b[38;5;241m*\u001b[39m\u001b[38;5;241m*\u001b[39mkwargs)\n\u001b[1;32m    164\u001b[0m \u001b[38;5;28;01melse\u001b[39;00m:\n\u001b[0;32m--> 165\u001b[0m     output \u001b[38;5;241m=\u001b[39m \u001b[43mmodule\u001b[49m\u001b[38;5;241;43m.\u001b[39;49m\u001b[43m_old_forward\u001b[49m\u001b[43m(\u001b[49m\u001b[38;5;241;43m*\u001b[39;49m\u001b[43margs\u001b[49m\u001b[43m,\u001b[49m\u001b[43m \u001b[49m\u001b[38;5;241;43m*\u001b[39;49m\u001b[38;5;241;43m*\u001b[39;49m\u001b[43mkwargs\u001b[49m\u001b[43m)\u001b[49m\n\u001b[1;32m    166\u001b[0m \u001b[38;5;28;01mreturn\u001b[39;00m module\u001b[38;5;241m.\u001b[39m_hf_hook\u001b[38;5;241m.\u001b[39mpost_forward(module, output)\n",
      "File \u001b[0;32m/opt/conda/lib/python3.10/site-packages/transformers/models/mistral/modeling_mistral.py:1039\u001b[0m, in \u001b[0;36mMistralModel.forward\u001b[0;34m(self, input_ids, attention_mask, position_ids, past_key_values, inputs_embeds, use_cache, output_attentions, output_hidden_states, return_dict)\u001b[0m\n\u001b[1;32m   1029\u001b[0m     layer_outputs \u001b[38;5;241m=\u001b[39m \u001b[38;5;28mself\u001b[39m\u001b[38;5;241m.\u001b[39m_gradient_checkpointing_func(\n\u001b[1;32m   1030\u001b[0m         decoder_layer\u001b[38;5;241m.\u001b[39m\u001b[38;5;21m__call__\u001b[39m,\n\u001b[1;32m   1031\u001b[0m         hidden_states,\n\u001b[0;32m   (...)\u001b[0m\n\u001b[1;32m   1036\u001b[0m         use_cache,\n\u001b[1;32m   1037\u001b[0m     )\n\u001b[1;32m   1038\u001b[0m \u001b[38;5;28;01melse\u001b[39;00m:\n\u001b[0;32m-> 1039\u001b[0m     layer_outputs \u001b[38;5;241m=\u001b[39m \u001b[43mdecoder_layer\u001b[49m\u001b[43m(\u001b[49m\n\u001b[1;32m   1040\u001b[0m \u001b[43m        \u001b[49m\u001b[43mhidden_states\u001b[49m\u001b[43m,\u001b[49m\n\u001b[1;32m   1041\u001b[0m \u001b[43m        \u001b[49m\u001b[43mattention_mask\u001b[49m\u001b[38;5;241;43m=\u001b[39;49m\u001b[43mattention_mask\u001b[49m\u001b[43m,\u001b[49m\n\u001b[1;32m   1042\u001b[0m \u001b[43m        \u001b[49m\u001b[43mposition_ids\u001b[49m\u001b[38;5;241;43m=\u001b[39;49m\u001b[43mposition_ids\u001b[49m\u001b[43m,\u001b[49m\n\u001b[1;32m   1043\u001b[0m \u001b[43m        \u001b[49m\u001b[43mpast_key_value\u001b[49m\u001b[38;5;241;43m=\u001b[39;49m\u001b[43mpast_key_values\u001b[49m\u001b[43m,\u001b[49m\n\u001b[1;32m   1044\u001b[0m \u001b[43m        \u001b[49m\u001b[43moutput_attentions\u001b[49m\u001b[38;5;241;43m=\u001b[39;49m\u001b[43moutput_attentions\u001b[49m\u001b[43m,\u001b[49m\n\u001b[1;32m   1045\u001b[0m \u001b[43m        \u001b[49m\u001b[43muse_cache\u001b[49m\u001b[38;5;241;43m=\u001b[39;49m\u001b[43muse_cache\u001b[49m\u001b[43m,\u001b[49m\n\u001b[1;32m   1046\u001b[0m \u001b[43m    \u001b[49m\u001b[43m)\u001b[49m\n\u001b[1;32m   1048\u001b[0m hidden_states \u001b[38;5;241m=\u001b[39m layer_outputs[\u001b[38;5;241m0\u001b[39m]\n\u001b[1;32m   1050\u001b[0m \u001b[38;5;28;01mif\u001b[39;00m use_cache:\n",
      "File \u001b[0;32m/opt/conda/lib/python3.10/site-packages/torch/nn/modules/module.py:1518\u001b[0m, in \u001b[0;36mModule._wrapped_call_impl\u001b[0;34m(self, *args, **kwargs)\u001b[0m\n\u001b[1;32m   1516\u001b[0m     \u001b[38;5;28;01mreturn\u001b[39;00m \u001b[38;5;28mself\u001b[39m\u001b[38;5;241m.\u001b[39m_compiled_call_impl(\u001b[38;5;241m*\u001b[39margs, \u001b[38;5;241m*\u001b[39m\u001b[38;5;241m*\u001b[39mkwargs)  \u001b[38;5;66;03m# type: ignore[misc]\u001b[39;00m\n\u001b[1;32m   1517\u001b[0m \u001b[38;5;28;01melse\u001b[39;00m:\n\u001b[0;32m-> 1518\u001b[0m     \u001b[38;5;28;01mreturn\u001b[39;00m \u001b[38;5;28;43mself\u001b[39;49m\u001b[38;5;241;43m.\u001b[39;49m\u001b[43m_call_impl\u001b[49m\u001b[43m(\u001b[49m\u001b[38;5;241;43m*\u001b[39;49m\u001b[43margs\u001b[49m\u001b[43m,\u001b[49m\u001b[43m \u001b[49m\u001b[38;5;241;43m*\u001b[39;49m\u001b[38;5;241;43m*\u001b[39;49m\u001b[43mkwargs\u001b[49m\u001b[43m)\u001b[49m\n",
      "File \u001b[0;32m/opt/conda/lib/python3.10/site-packages/torch/nn/modules/module.py:1527\u001b[0m, in \u001b[0;36mModule._call_impl\u001b[0;34m(self, *args, **kwargs)\u001b[0m\n\u001b[1;32m   1522\u001b[0m \u001b[38;5;66;03m# If we don't have any hooks, we want to skip the rest of the logic in\u001b[39;00m\n\u001b[1;32m   1523\u001b[0m \u001b[38;5;66;03m# this function, and just call forward.\u001b[39;00m\n\u001b[1;32m   1524\u001b[0m \u001b[38;5;28;01mif\u001b[39;00m \u001b[38;5;129;01mnot\u001b[39;00m (\u001b[38;5;28mself\u001b[39m\u001b[38;5;241m.\u001b[39m_backward_hooks \u001b[38;5;129;01mor\u001b[39;00m \u001b[38;5;28mself\u001b[39m\u001b[38;5;241m.\u001b[39m_backward_pre_hooks \u001b[38;5;129;01mor\u001b[39;00m \u001b[38;5;28mself\u001b[39m\u001b[38;5;241m.\u001b[39m_forward_hooks \u001b[38;5;129;01mor\u001b[39;00m \u001b[38;5;28mself\u001b[39m\u001b[38;5;241m.\u001b[39m_forward_pre_hooks\n\u001b[1;32m   1525\u001b[0m         \u001b[38;5;129;01mor\u001b[39;00m _global_backward_pre_hooks \u001b[38;5;129;01mor\u001b[39;00m _global_backward_hooks\n\u001b[1;32m   1526\u001b[0m         \u001b[38;5;129;01mor\u001b[39;00m _global_forward_hooks \u001b[38;5;129;01mor\u001b[39;00m _global_forward_pre_hooks):\n\u001b[0;32m-> 1527\u001b[0m     \u001b[38;5;28;01mreturn\u001b[39;00m \u001b[43mforward_call\u001b[49m\u001b[43m(\u001b[49m\u001b[38;5;241;43m*\u001b[39;49m\u001b[43margs\u001b[49m\u001b[43m,\u001b[49m\u001b[43m \u001b[49m\u001b[38;5;241;43m*\u001b[39;49m\u001b[38;5;241;43m*\u001b[39;49m\u001b[43mkwargs\u001b[49m\u001b[43m)\u001b[49m\n\u001b[1;32m   1529\u001b[0m \u001b[38;5;28;01mtry\u001b[39;00m:\n\u001b[1;32m   1530\u001b[0m     result \u001b[38;5;241m=\u001b[39m \u001b[38;5;28;01mNone\u001b[39;00m\n",
      "File \u001b[0;32m/opt/conda/lib/python3.10/site-packages/accelerate/hooks.py:165\u001b[0m, in \u001b[0;36madd_hook_to_module.<locals>.new_forward\u001b[0;34m(module, *args, **kwargs)\u001b[0m\n\u001b[1;32m    163\u001b[0m         output \u001b[38;5;241m=\u001b[39m module\u001b[38;5;241m.\u001b[39m_old_forward(\u001b[38;5;241m*\u001b[39margs, \u001b[38;5;241m*\u001b[39m\u001b[38;5;241m*\u001b[39mkwargs)\n\u001b[1;32m    164\u001b[0m \u001b[38;5;28;01melse\u001b[39;00m:\n\u001b[0;32m--> 165\u001b[0m     output \u001b[38;5;241m=\u001b[39m \u001b[43mmodule\u001b[49m\u001b[38;5;241;43m.\u001b[39;49m\u001b[43m_old_forward\u001b[49m\u001b[43m(\u001b[49m\u001b[38;5;241;43m*\u001b[39;49m\u001b[43margs\u001b[49m\u001b[43m,\u001b[49m\u001b[43m \u001b[49m\u001b[38;5;241;43m*\u001b[39;49m\u001b[38;5;241;43m*\u001b[39;49m\u001b[43mkwargs\u001b[49m\u001b[43m)\u001b[49m\n\u001b[1;32m    166\u001b[0m \u001b[38;5;28;01mreturn\u001b[39;00m module\u001b[38;5;241m.\u001b[39m_hf_hook\u001b[38;5;241m.\u001b[39mpost_forward(module, output)\n",
      "File \u001b[0;32m/opt/conda/lib/python3.10/site-packages/transformers/models/mistral/modeling_mistral.py:754\u001b[0m, in \u001b[0;36mMistralDecoderLayer.forward\u001b[0;34m(self, hidden_states, attention_mask, position_ids, past_key_value, output_attentions, use_cache, **kwargs)\u001b[0m\n\u001b[1;32m    751\u001b[0m hidden_states \u001b[38;5;241m=\u001b[39m \u001b[38;5;28mself\u001b[39m\u001b[38;5;241m.\u001b[39minput_layernorm(hidden_states)\n\u001b[1;32m    753\u001b[0m \u001b[38;5;66;03m# Self Attention\u001b[39;00m\n\u001b[0;32m--> 754\u001b[0m hidden_states, self_attn_weights, present_key_value \u001b[38;5;241m=\u001b[39m \u001b[38;5;28;43mself\u001b[39;49m\u001b[38;5;241;43m.\u001b[39;49m\u001b[43mself_attn\u001b[49m\u001b[43m(\u001b[49m\n\u001b[1;32m    755\u001b[0m \u001b[43m    \u001b[49m\u001b[43mhidden_states\u001b[49m\u001b[38;5;241;43m=\u001b[39;49m\u001b[43mhidden_states\u001b[49m\u001b[43m,\u001b[49m\n\u001b[1;32m    756\u001b[0m \u001b[43m    \u001b[49m\u001b[43mattention_mask\u001b[49m\u001b[38;5;241;43m=\u001b[39;49m\u001b[43mattention_mask\u001b[49m\u001b[43m,\u001b[49m\n\u001b[1;32m    757\u001b[0m \u001b[43m    \u001b[49m\u001b[43mposition_ids\u001b[49m\u001b[38;5;241;43m=\u001b[39;49m\u001b[43mposition_ids\u001b[49m\u001b[43m,\u001b[49m\n\u001b[1;32m    758\u001b[0m \u001b[43m    \u001b[49m\u001b[43mpast_key_value\u001b[49m\u001b[38;5;241;43m=\u001b[39;49m\u001b[43mpast_key_value\u001b[49m\u001b[43m,\u001b[49m\n\u001b[1;32m    759\u001b[0m \u001b[43m    \u001b[49m\u001b[43moutput_attentions\u001b[49m\u001b[38;5;241;43m=\u001b[39;49m\u001b[43moutput_attentions\u001b[49m\u001b[43m,\u001b[49m\n\u001b[1;32m    760\u001b[0m \u001b[43m    \u001b[49m\u001b[43muse_cache\u001b[49m\u001b[38;5;241;43m=\u001b[39;49m\u001b[43muse_cache\u001b[49m\u001b[43m,\u001b[49m\n\u001b[1;32m    761\u001b[0m \u001b[43m\u001b[49m\u001b[43m)\u001b[49m\n\u001b[1;32m    762\u001b[0m hidden_states \u001b[38;5;241m=\u001b[39m residual \u001b[38;5;241m+\u001b[39m hidden_states\n\u001b[1;32m    764\u001b[0m \u001b[38;5;66;03m# Fully Connected\u001b[39;00m\n",
      "File \u001b[0;32m/opt/conda/lib/python3.10/site-packages/torch/nn/modules/module.py:1518\u001b[0m, in \u001b[0;36mModule._wrapped_call_impl\u001b[0;34m(self, *args, **kwargs)\u001b[0m\n\u001b[1;32m   1516\u001b[0m     \u001b[38;5;28;01mreturn\u001b[39;00m \u001b[38;5;28mself\u001b[39m\u001b[38;5;241m.\u001b[39m_compiled_call_impl(\u001b[38;5;241m*\u001b[39margs, \u001b[38;5;241m*\u001b[39m\u001b[38;5;241m*\u001b[39mkwargs)  \u001b[38;5;66;03m# type: ignore[misc]\u001b[39;00m\n\u001b[1;32m   1517\u001b[0m \u001b[38;5;28;01melse\u001b[39;00m:\n\u001b[0;32m-> 1518\u001b[0m     \u001b[38;5;28;01mreturn\u001b[39;00m \u001b[38;5;28;43mself\u001b[39;49m\u001b[38;5;241;43m.\u001b[39;49m\u001b[43m_call_impl\u001b[49m\u001b[43m(\u001b[49m\u001b[38;5;241;43m*\u001b[39;49m\u001b[43margs\u001b[49m\u001b[43m,\u001b[49m\u001b[43m \u001b[49m\u001b[38;5;241;43m*\u001b[39;49m\u001b[38;5;241;43m*\u001b[39;49m\u001b[43mkwargs\u001b[49m\u001b[43m)\u001b[49m\n",
      "File \u001b[0;32m/opt/conda/lib/python3.10/site-packages/torch/nn/modules/module.py:1527\u001b[0m, in \u001b[0;36mModule._call_impl\u001b[0;34m(self, *args, **kwargs)\u001b[0m\n\u001b[1;32m   1522\u001b[0m \u001b[38;5;66;03m# If we don't have any hooks, we want to skip the rest of the logic in\u001b[39;00m\n\u001b[1;32m   1523\u001b[0m \u001b[38;5;66;03m# this function, and just call forward.\u001b[39;00m\n\u001b[1;32m   1524\u001b[0m \u001b[38;5;28;01mif\u001b[39;00m \u001b[38;5;129;01mnot\u001b[39;00m (\u001b[38;5;28mself\u001b[39m\u001b[38;5;241m.\u001b[39m_backward_hooks \u001b[38;5;129;01mor\u001b[39;00m \u001b[38;5;28mself\u001b[39m\u001b[38;5;241m.\u001b[39m_backward_pre_hooks \u001b[38;5;129;01mor\u001b[39;00m \u001b[38;5;28mself\u001b[39m\u001b[38;5;241m.\u001b[39m_forward_hooks \u001b[38;5;129;01mor\u001b[39;00m \u001b[38;5;28mself\u001b[39m\u001b[38;5;241m.\u001b[39m_forward_pre_hooks\n\u001b[1;32m   1525\u001b[0m         \u001b[38;5;129;01mor\u001b[39;00m _global_backward_pre_hooks \u001b[38;5;129;01mor\u001b[39;00m _global_backward_hooks\n\u001b[1;32m   1526\u001b[0m         \u001b[38;5;129;01mor\u001b[39;00m _global_forward_hooks \u001b[38;5;129;01mor\u001b[39;00m _global_forward_pre_hooks):\n\u001b[0;32m-> 1527\u001b[0m     \u001b[38;5;28;01mreturn\u001b[39;00m \u001b[43mforward_call\u001b[49m\u001b[43m(\u001b[49m\u001b[38;5;241;43m*\u001b[39;49m\u001b[43margs\u001b[49m\u001b[43m,\u001b[49m\u001b[43m \u001b[49m\u001b[38;5;241;43m*\u001b[39;49m\u001b[38;5;241;43m*\u001b[39;49m\u001b[43mkwargs\u001b[49m\u001b[43m)\u001b[49m\n\u001b[1;32m   1529\u001b[0m \u001b[38;5;28;01mtry\u001b[39;00m:\n\u001b[1;32m   1530\u001b[0m     result \u001b[38;5;241m=\u001b[39m \u001b[38;5;28;01mNone\u001b[39;00m\n",
      "File \u001b[0;32m/opt/conda/lib/python3.10/site-packages/accelerate/hooks.py:165\u001b[0m, in \u001b[0;36madd_hook_to_module.<locals>.new_forward\u001b[0;34m(module, *args, **kwargs)\u001b[0m\n\u001b[1;32m    163\u001b[0m         output \u001b[38;5;241m=\u001b[39m module\u001b[38;5;241m.\u001b[39m_old_forward(\u001b[38;5;241m*\u001b[39margs, \u001b[38;5;241m*\u001b[39m\u001b[38;5;241m*\u001b[39mkwargs)\n\u001b[1;32m    164\u001b[0m \u001b[38;5;28;01melse\u001b[39;00m:\n\u001b[0;32m--> 165\u001b[0m     output \u001b[38;5;241m=\u001b[39m \u001b[43mmodule\u001b[49m\u001b[38;5;241;43m.\u001b[39;49m\u001b[43m_old_forward\u001b[49m\u001b[43m(\u001b[49m\u001b[38;5;241;43m*\u001b[39;49m\u001b[43margs\u001b[49m\u001b[43m,\u001b[49m\u001b[43m \u001b[49m\u001b[38;5;241;43m*\u001b[39;49m\u001b[38;5;241;43m*\u001b[39;49m\u001b[43mkwargs\u001b[49m\u001b[43m)\u001b[49m\n\u001b[1;32m    166\u001b[0m \u001b[38;5;28;01mreturn\u001b[39;00m module\u001b[38;5;241m.\u001b[39m_hf_hook\u001b[38;5;241m.\u001b[39mpost_forward(module, output)\n",
      "File \u001b[0;32m/opt/conda/lib/python3.10/site-packages/transformers/models/mistral/modeling_mistral.py:652\u001b[0m, in \u001b[0;36mMistralSdpaAttention.forward\u001b[0;34m(self, hidden_states, attention_mask, position_ids, past_key_value, output_attentions, use_cache)\u001b[0m\n\u001b[1;32m    650\u001b[0m query_states \u001b[38;5;241m=\u001b[39m \u001b[38;5;28mself\u001b[39m\u001b[38;5;241m.\u001b[39mq_proj(hidden_states)\n\u001b[1;32m    651\u001b[0m key_states \u001b[38;5;241m=\u001b[39m \u001b[38;5;28mself\u001b[39m\u001b[38;5;241m.\u001b[39mk_proj(hidden_states)\n\u001b[0;32m--> 652\u001b[0m value_states \u001b[38;5;241m=\u001b[39m \u001b[38;5;28;43mself\u001b[39;49m\u001b[38;5;241;43m.\u001b[39;49m\u001b[43mv_proj\u001b[49m\u001b[43m(\u001b[49m\u001b[43mhidden_states\u001b[49m\u001b[43m)\u001b[49m\n\u001b[1;32m    654\u001b[0m query_states \u001b[38;5;241m=\u001b[39m query_states\u001b[38;5;241m.\u001b[39mview(bsz, q_len, \u001b[38;5;28mself\u001b[39m\u001b[38;5;241m.\u001b[39mnum_heads, \u001b[38;5;28mself\u001b[39m\u001b[38;5;241m.\u001b[39mhead_dim)\u001b[38;5;241m.\u001b[39mtranspose(\u001b[38;5;241m1\u001b[39m, \u001b[38;5;241m2\u001b[39m)\n\u001b[1;32m    655\u001b[0m key_states \u001b[38;5;241m=\u001b[39m key_states\u001b[38;5;241m.\u001b[39mview(bsz, q_len, \u001b[38;5;28mself\u001b[39m\u001b[38;5;241m.\u001b[39mnum_key_value_heads, \u001b[38;5;28mself\u001b[39m\u001b[38;5;241m.\u001b[39mhead_dim)\u001b[38;5;241m.\u001b[39mtranspose(\u001b[38;5;241m1\u001b[39m, \u001b[38;5;241m2\u001b[39m)\n",
      "File \u001b[0;32m/opt/conda/lib/python3.10/site-packages/torch/nn/modules/module.py:1518\u001b[0m, in \u001b[0;36mModule._wrapped_call_impl\u001b[0;34m(self, *args, **kwargs)\u001b[0m\n\u001b[1;32m   1516\u001b[0m     \u001b[38;5;28;01mreturn\u001b[39;00m \u001b[38;5;28mself\u001b[39m\u001b[38;5;241m.\u001b[39m_compiled_call_impl(\u001b[38;5;241m*\u001b[39margs, \u001b[38;5;241m*\u001b[39m\u001b[38;5;241m*\u001b[39mkwargs)  \u001b[38;5;66;03m# type: ignore[misc]\u001b[39;00m\n\u001b[1;32m   1517\u001b[0m \u001b[38;5;28;01melse\u001b[39;00m:\n\u001b[0;32m-> 1518\u001b[0m     \u001b[38;5;28;01mreturn\u001b[39;00m \u001b[38;5;28;43mself\u001b[39;49m\u001b[38;5;241;43m.\u001b[39;49m\u001b[43m_call_impl\u001b[49m\u001b[43m(\u001b[49m\u001b[38;5;241;43m*\u001b[39;49m\u001b[43margs\u001b[49m\u001b[43m,\u001b[49m\u001b[43m \u001b[49m\u001b[38;5;241;43m*\u001b[39;49m\u001b[38;5;241;43m*\u001b[39;49m\u001b[43mkwargs\u001b[49m\u001b[43m)\u001b[49m\n",
      "File \u001b[0;32m/opt/conda/lib/python3.10/site-packages/torch/nn/modules/module.py:1527\u001b[0m, in \u001b[0;36mModule._call_impl\u001b[0;34m(self, *args, **kwargs)\u001b[0m\n\u001b[1;32m   1522\u001b[0m \u001b[38;5;66;03m# If we don't have any hooks, we want to skip the rest of the logic in\u001b[39;00m\n\u001b[1;32m   1523\u001b[0m \u001b[38;5;66;03m# this function, and just call forward.\u001b[39;00m\n\u001b[1;32m   1524\u001b[0m \u001b[38;5;28;01mif\u001b[39;00m \u001b[38;5;129;01mnot\u001b[39;00m (\u001b[38;5;28mself\u001b[39m\u001b[38;5;241m.\u001b[39m_backward_hooks \u001b[38;5;129;01mor\u001b[39;00m \u001b[38;5;28mself\u001b[39m\u001b[38;5;241m.\u001b[39m_backward_pre_hooks \u001b[38;5;129;01mor\u001b[39;00m \u001b[38;5;28mself\u001b[39m\u001b[38;5;241m.\u001b[39m_forward_hooks \u001b[38;5;129;01mor\u001b[39;00m \u001b[38;5;28mself\u001b[39m\u001b[38;5;241m.\u001b[39m_forward_pre_hooks\n\u001b[1;32m   1525\u001b[0m         \u001b[38;5;129;01mor\u001b[39;00m _global_backward_pre_hooks \u001b[38;5;129;01mor\u001b[39;00m _global_backward_hooks\n\u001b[1;32m   1526\u001b[0m         \u001b[38;5;129;01mor\u001b[39;00m _global_forward_hooks \u001b[38;5;129;01mor\u001b[39;00m _global_forward_pre_hooks):\n\u001b[0;32m-> 1527\u001b[0m     \u001b[38;5;28;01mreturn\u001b[39;00m \u001b[43mforward_call\u001b[49m\u001b[43m(\u001b[49m\u001b[38;5;241;43m*\u001b[39;49m\u001b[43margs\u001b[49m\u001b[43m,\u001b[49m\u001b[43m \u001b[49m\u001b[38;5;241;43m*\u001b[39;49m\u001b[38;5;241;43m*\u001b[39;49m\u001b[43mkwargs\u001b[49m\u001b[43m)\u001b[49m\n\u001b[1;32m   1529\u001b[0m \u001b[38;5;28;01mtry\u001b[39;00m:\n\u001b[1;32m   1530\u001b[0m     result \u001b[38;5;241m=\u001b[39m \u001b[38;5;28;01mNone\u001b[39;00m\n",
      "File \u001b[0;32m/opt/conda/lib/python3.10/site-packages/peft/tuners/lora/bnb.py:355\u001b[0m, in \u001b[0;36mLinear4bit.forward\u001b[0;34m(self, x, *args, **kwargs)\u001b[0m\n\u001b[1;32m    352\u001b[0m     expected_dtype \u001b[38;5;241m=\u001b[39m result\u001b[38;5;241m.\u001b[39mdtype\n\u001b[1;32m    353\u001b[0m     x \u001b[38;5;241m=\u001b[39m x\u001b[38;5;241m.\u001b[39mto(lora_A\u001b[38;5;241m.\u001b[39mweight\u001b[38;5;241m.\u001b[39mdtype)\n\u001b[0;32m--> 355\u001b[0m output \u001b[38;5;241m=\u001b[39m \u001b[43mlora_B\u001b[49m\u001b[43m(\u001b[49m\u001b[43mlora_A\u001b[49m\u001b[43m(\u001b[49m\u001b[43mdropout\u001b[49m\u001b[43m(\u001b[49m\u001b[43mx\u001b[49m\u001b[43m)\u001b[49m\u001b[43m)\u001b[49m\u001b[43m)\u001b[49m\n\u001b[1;32m    356\u001b[0m \u001b[38;5;28;01mif\u001b[39;00m requires_conversion:\n\u001b[1;32m    357\u001b[0m     output \u001b[38;5;241m=\u001b[39m output\u001b[38;5;241m.\u001b[39mto(expected_dtype)\n",
      "File \u001b[0;32m/opt/conda/lib/python3.10/site-packages/torch/nn/modules/module.py:1518\u001b[0m, in \u001b[0;36mModule._wrapped_call_impl\u001b[0;34m(self, *args, **kwargs)\u001b[0m\n\u001b[1;32m   1516\u001b[0m     \u001b[38;5;28;01mreturn\u001b[39;00m \u001b[38;5;28mself\u001b[39m\u001b[38;5;241m.\u001b[39m_compiled_call_impl(\u001b[38;5;241m*\u001b[39margs, \u001b[38;5;241m*\u001b[39m\u001b[38;5;241m*\u001b[39mkwargs)  \u001b[38;5;66;03m# type: ignore[misc]\u001b[39;00m\n\u001b[1;32m   1517\u001b[0m \u001b[38;5;28;01melse\u001b[39;00m:\n\u001b[0;32m-> 1518\u001b[0m     \u001b[38;5;28;01mreturn\u001b[39;00m \u001b[38;5;28;43mself\u001b[39;49m\u001b[38;5;241;43m.\u001b[39;49m\u001b[43m_call_impl\u001b[49m\u001b[43m(\u001b[49m\u001b[38;5;241;43m*\u001b[39;49m\u001b[43margs\u001b[49m\u001b[43m,\u001b[49m\u001b[43m \u001b[49m\u001b[38;5;241;43m*\u001b[39;49m\u001b[38;5;241;43m*\u001b[39;49m\u001b[43mkwargs\u001b[49m\u001b[43m)\u001b[49m\n",
      "File \u001b[0;32m/opt/conda/lib/python3.10/site-packages/torch/nn/modules/module.py:1527\u001b[0m, in \u001b[0;36mModule._call_impl\u001b[0;34m(self, *args, **kwargs)\u001b[0m\n\u001b[1;32m   1522\u001b[0m \u001b[38;5;66;03m# If we don't have any hooks, we want to skip the rest of the logic in\u001b[39;00m\n\u001b[1;32m   1523\u001b[0m \u001b[38;5;66;03m# this function, and just call forward.\u001b[39;00m\n\u001b[1;32m   1524\u001b[0m \u001b[38;5;28;01mif\u001b[39;00m \u001b[38;5;129;01mnot\u001b[39;00m (\u001b[38;5;28mself\u001b[39m\u001b[38;5;241m.\u001b[39m_backward_hooks \u001b[38;5;129;01mor\u001b[39;00m \u001b[38;5;28mself\u001b[39m\u001b[38;5;241m.\u001b[39m_backward_pre_hooks \u001b[38;5;129;01mor\u001b[39;00m \u001b[38;5;28mself\u001b[39m\u001b[38;5;241m.\u001b[39m_forward_hooks \u001b[38;5;129;01mor\u001b[39;00m \u001b[38;5;28mself\u001b[39m\u001b[38;5;241m.\u001b[39m_forward_pre_hooks\n\u001b[1;32m   1525\u001b[0m         \u001b[38;5;129;01mor\u001b[39;00m _global_backward_pre_hooks \u001b[38;5;129;01mor\u001b[39;00m _global_backward_hooks\n\u001b[1;32m   1526\u001b[0m         \u001b[38;5;129;01mor\u001b[39;00m _global_forward_hooks \u001b[38;5;129;01mor\u001b[39;00m _global_forward_pre_hooks):\n\u001b[0;32m-> 1527\u001b[0m     \u001b[38;5;28;01mreturn\u001b[39;00m \u001b[43mforward_call\u001b[49m\u001b[43m(\u001b[49m\u001b[38;5;241;43m*\u001b[39;49m\u001b[43margs\u001b[49m\u001b[43m,\u001b[49m\u001b[43m \u001b[49m\u001b[38;5;241;43m*\u001b[39;49m\u001b[38;5;241;43m*\u001b[39;49m\u001b[43mkwargs\u001b[49m\u001b[43m)\u001b[49m\n\u001b[1;32m   1529\u001b[0m \u001b[38;5;28;01mtry\u001b[39;00m:\n\u001b[1;32m   1530\u001b[0m     result \u001b[38;5;241m=\u001b[39m \u001b[38;5;28;01mNone\u001b[39;00m\n",
      "File \u001b[0;32m/opt/conda/lib/python3.10/site-packages/torch/nn/modules/linear.py:114\u001b[0m, in \u001b[0;36mLinear.forward\u001b[0;34m(self, input)\u001b[0m\n\u001b[1;32m    113\u001b[0m \u001b[38;5;28;01mdef\u001b[39;00m \u001b[38;5;21mforward\u001b[39m(\u001b[38;5;28mself\u001b[39m, \u001b[38;5;28minput\u001b[39m: Tensor) \u001b[38;5;241m-\u001b[39m\u001b[38;5;241m>\u001b[39m Tensor:\n\u001b[0;32m--> 114\u001b[0m     \u001b[38;5;28;01mreturn\u001b[39;00m \u001b[43mF\u001b[49m\u001b[38;5;241;43m.\u001b[39;49m\u001b[43mlinear\u001b[49m\u001b[43m(\u001b[49m\u001b[38;5;28;43minput\u001b[39;49m\u001b[43m,\u001b[49m\u001b[43m \u001b[49m\u001b[38;5;28;43mself\u001b[39;49m\u001b[38;5;241;43m.\u001b[39;49m\u001b[43mweight\u001b[49m\u001b[43m,\u001b[49m\u001b[43m \u001b[49m\u001b[38;5;28;43mself\u001b[39;49m\u001b[38;5;241;43m.\u001b[39;49m\u001b[43mbias\u001b[49m\u001b[43m)\u001b[49m\n",
      "\u001b[0;31mKeyboardInterrupt\u001b[0m: "
     ]
    }
   ],
   "source": [
    "from tqdm import tqdm\n",
    "# taken from https://gist.github.com/Tony-Y/03e47588bae2e2bfd69815d046d994ec\n",
    "import pytorch_warmup as warmup\n",
    "\n",
    "epochs = 50\n",
    "steps_per_epoch = len(train_dl)\n",
    "warmup_period = 1000\n",
    "num_steps = steps_per_epoch * epochs - warmup_period\n",
    "t0 = num_steps // 3 # first cosine anneal\n",
    "\n",
    "lr_min = 3e-5\n",
    "max_step = t0 * 3 + warmup_period\n",
    "\n",
    "lr_scheduler = optim.lr_scheduler.CosineAnnealingWarmRestarts(\n",
    "    optimizer, T_0=t0, T_mult=1, eta_min=lr_min)\n",
    "\n",
    "warmup_scheduler = warmup.LinearWarmup(optimizer, warmup_period)\n",
    "\n",
    "best_loss = 1e9\n",
    "\n",
    "for _ in range(50):\n",
    "    model.train()\n",
    "    for i, local_batch in enumerate(train_dl):\n",
    "        loss = get_loss(local_batch)\n",
    "\n",
    "        # required to access grad on non leaf nodes\n",
    "        for p in model.audio_encoder.proj.parameters():\n",
    "            if p.requires_grad:\n",
    "                p.retain_grad()\n",
    "        \n",
    "        # print(\"lossed\")\n",
    "    \n",
    "        optimizer.zero_grad(set_to_none=True)\n",
    "        loss.backward()\n",
    "        optimizer.step()\n",
    "\n",
    "\n",
    "        with warmup_scheduler.dampening():\n",
    "            if warmup_scheduler.last_step + 1 >= warmup_period:\n",
    "                lr_scheduler.step()\n",
    "        if warmup_scheduler.last_step + 1 >= max_step:\n",
    "            break\n",
    "\n",
    "        # print(\"backwarded\")\n",
    "        \n",
    "        with torch.no_grad():\n",
    "            ud = []\n",
    "            for name, p in model.audio_encoder.proj.named_parameters():\n",
    "                if not p.requires_grad or p.grad is None:\n",
    "                    continue\n",
    "                # if i % 10 == 0:\n",
    "                #    print(name, p.grad.mean().item(), p.grad.std().item())\n",
    "                ud.append(((lr_default*p.grad).std() / p.data.std()).log10().item())\n",
    "            uds.append(ud)\n",
    "            \n",
    "        \n",
    "        losses.append(loss.detach().cpu())\n",
    "        del loss\n",
    "        if i % 500 == 0:\n",
    "            eval_losses = []\n",
    "            with torch.no_grad():\n",
    "                model.eval()\n",
    "                for local_batch in tqdm(eval_dl):\n",
    "                    eval_loss = get_loss(local_batch)\n",
    "                    eval_losses.append(eval_loss.cpu())\n",
    "            print(f\"{i}: train={np.mean(losses):.4f} eval={np.mean(eval_losses):.4f}\")\n",
    "            if np.mean(eval_losses) < best_loss:\n",
    "                best_loss = np.mean(eval_losses)\n",
    "                if stage == \"proj\":\n",
    "                    torch.save(\n",
    "                        model.audio_encoder.proj.state_dict(),\n",
    "                        f\"model_best_save{run_num}.pth\",\n",
    "                    )\n",
    "                elif stage == \"peft\":\n",
    "                    # save peft params\n",
    "                    filt_state_dict = {k:v for k,v in model.llm.state_dict().items() if \"lora\" in k}\n",
    "                    torch.save(filt_state_dict, f\"lora_best_save{run_num}.pth\")\n",
    "            del eval_losses\n"
   ]
  },
  {
   "cell_type": "code",
   "execution_count": null,
   "id": "7028cd5a",
   "metadata": {},
   "outputs": [],
   "source": [
    "# if stage == \"peft\":\n",
    "#     model.llm.load_state_dict(torch.load(f\"lora_best_save{run_num}.pth\"),strict=False)\n",
    "# elif stage  == \"proj\":\n",
    "#   model.audio_encoder.proj.load_state_dict(torch.load(f\"model_best_save{run_num}.pth\"))"
   ]
  },
  {
   "cell_type": "code",
   "execution_count": 29,
   "id": "156c892f-06a1-4756-8247-7380ae6712e8",
   "metadata": {},
   "outputs": [
    {
     "data": {
      "image/png": "[encoded data removed]",
      "text/plain": [
       "<Figure size 2000x400 with 1 Axes>"
      ]
     },
     "metadata": {},
     "output_type": "display_data"
    }
   ],
   "source": [
    "# visualize histograms\n",
    "plt.figure(figsize=(20, 4)) # width and height of the plot\n",
    "legends = []\n",
    "parameters = []\n",
    "for i, l in enumerate([model.audio_encoder.proj]):\n",
    "    #print('layer', l.__class__)\n",
    "    for name, p in l.named_parameters():\n",
    "        t = p.grad\n",
    "        \n",
    "        if t is None:\n",
    "            continue\n",
    "\n",
    "        print('layer %s | weight %10s | mean %+f | std %e | grad:data ratio %e' % (\n",
    "            name, tuple(p.shape), t.mean(), t.std(), t.std() / p.std()))\n",
    "\n",
    "        hy, hx = np.histogram(t.to(torch.float32).cpu().detach().numpy())\n",
    "        plt.plot(hx[:-1], hy)\n",
    "        legends.append(f'{name} {tuple(p.shape)}')\n",
    "            \n",
    "plt.legend(legends)\n",
    "plt.title('weights gradient distribution');"
   ]
  },
  {
   "cell_type": "code",
   "execution_count": 30,
   "id": "da5c5a54-96f4-46eb-9139-8b3a3a4c3234",
   "metadata": {},
   "outputs": [
    {
     "data": {
      "text/plain": [
       "Text(0.5, 1.0, 'weight update relative to weight data, log scale')"
      ]
     },
     "execution_count": 30,
     "metadata": {},
     "output_type": "execute_result"
    },
    {
     "data": {
      "image/png": "[encoded data removed]",
      "text/plain": [
       "<Figure size 2000x400 with 1 Axes>"
      ]
     },
     "metadata": {},
     "output_type": "display_data"
    }
   ],
   "source": [
    "plt.figure(figsize=(20, 4))\n",
    "legends = []\n",
    "i = 0\n",
    "for name, p in (model.audio_encoder.proj.named_parameters()):\n",
    "    if p.grad is None:\n",
    "        continue\n",
    "    \n",
    "    plt.plot([uds[epoch][i] for epoch in range(len(uds))])\n",
    "    legends.append(name)\n",
    "\n",
    "    i += 1\n",
    "            \n",
    "plt.plot([0, len(uds)], [-3, -3], 'k') # these ratios should be ~1e-3, indicate on plot\n",
    "plt.legend(legends);\n",
    "plt.title(\"weight update relative to weight data, log scale\")\n"
   ]
  },
  {
   "cell_type": "code",
   "execution_count": 31,
   "id": "7f9f05f0-074c-43c8-a5db-9953fdf1b8db",
   "metadata": {},
   "outputs": [],
   "source": [
    "l = torch.tensor(losses)"
   ]
  },
  {
   "cell_type": "code",
   "execution_count": 32,
   "id": "e2fe7d24-6b4f-440a-b4e9-cdd28bf1a706",
   "metadata": {},
   "outputs": [
    {
     "data": {
      "text/plain": [
       "tensor(0.0397)"
      ]
     },
     "execution_count": 32,
     "metadata": {},
     "output_type": "execute_result"
    }
   ],
   "source": [
    "l[-50:].mean()"
   ]
  },
  {
   "cell_type": "code",
   "execution_count": 33,
   "id": "8056f70c-725a-40cd-b263-2f5721c2b83f",
   "metadata": {},
   "outputs": [],
   "source": [
    "size_to_clip = l.size(0) - (l.size(0) % 100)\n",
    "ml = l[:size_to_clip].reshape(-1, 100).mean(axis=1)\n"
   ]
  },
  {
   "cell_type": "code",
   "execution_count": 34,
   "id": "5bfc0fbc-aa9f-4f14-bd25-0897819cdeec",
   "metadata": {},
   "outputs": [
    {
     "data": {
      "text/plain": [
       "(0.0, 2.0)"
      ]
     },
     "execution_count": 34,
     "metadata": {},
     "output_type": "execute_result"
    },
    {
     "data": {
      "image/png": "[encoded data removed]",
      "text/plain": [
       "<Figure size 640x480 with 1 Axes>"
      ]
     },
     "metadata": {},
     "output_type": "display_data"
    }
   ],
   "source": [
    "plt.plot(range((ml.shape[0])), ml.numpy())\n",
    "plt.title(\"avg cross entropy loss over 100 steps\")\n",
    "plt.ylim(0, 2)"
   ]
  },
  {
   "cell_type": "code",
   "execution_count": 39,
   "id": "2f0943e2-2970-43f7-ab03-ae470fddf58e",
   "metadata": {},
   "outputs": [],
   "source": [
    "if stage == \"proj\":\n",
    "    out = f\"model_manual_save{run_num}.pth\"\n",
    "\n",
    "    torch.save(\n",
    "        model.audio_encoder.proj.state_dict(),\n",
    "        out,\n",
    "    )\n",
    "elif stage == \"peft\":\n",
    "    out = f\"lora_manual_save{run_num}.pth\"\n",
    "\n",
    "    filtered_state_dict = {k:v for k,v in model.llm.state_dict().items() if \"lora\" in k}\n",
    "    torch.save(filtered_state_dict, out)\n"
   ]
  },
  {
   "cell_type": "code",
   "execution_count": 35,
   "id": "c1d8d426-8f66-468f-b884-220d5263dc29",
   "metadata": {},
   "outputs": [],
   "source": [
    "from src2.voixdb.dataset.music_caps import MusicCapsDataset\n",
    "eval_ds = MusicCapsDataset(eval_entries, tokenizer, util.prompt_template_fn,audio_encoder.audio_encoder,raw_embedding,max_length,key=\"eval-audio\")\n",
    "eval_dl = DataLoader(eval_ds, batch_size=1, shuffle=True, num_workers=1)\n",
    "datagen=iter(eval_dl)"
   ]
  },
  {
   "cell_type": "code",
   "execution_count": 64,
   "id": "5b512103-c1ae-4e05-be23-44c4111e4c4d",
   "metadata": {},
   "outputs": [
    {
     "name": "stdout",
     "output_type": "stream",
     "text": [
      "<unk><unk><unk><unk><unk><unk><unk><unk><unk><unk><unk><unk><unk><unk><unk><unk><unk><unk><unk><unk><unk><unk><unk><unk><unk><unk><unk><unk><unk><unk><unk><unk><unk><unk><unk><unk><unk><unk><unk><unk><unk><unk><unk><unk><unk><unk><unk><unk><unk><unk><unk><unk><unk><unk><unk><unk><unk><unk><unk><unk><unk><unk><unk><unk><unk><unk><unk><unk><unk><unk><unk><unk><unk><unk><unk><unk><unk><unk><unk><unk><s> <|im_start|>  system\n",
      "    You are a helpful AI who follows instruction carefully<|im_end|> <|im_start|>  user\n",
      "    Describe the sound of the given file<unk><unk><unk><unk><unk><unk><unk><unk><unk><unk><unk><unk><unk><unk><unk><unk><unk><unk><unk><unk><unk><unk><unk><unk><unk><unk><unk><unk><unk><unk><unk><unk><unk><unk><unk><unk><unk><unk><unk><unk><unk><unk><unk><unk><unk><unk><unk><unk><unk><unk><unk><unk><unk><unk><unk><unk><unk><unk><unk><unk><unk><unk><unk><unk><unk><unk><unk><unk><unk><unk><unk><unk><unk><unk><unk><unk><unk><unk><unk><unk><unk><unk><unk><unk><unk><unk><unk><unk><unk><unk><unk><unk><unk><unk><unk><unk><unk><unk><unk><unk><unk><unk><unk><unk><unk><unk><unk><unk><unk><unk><unk><unk><unk><unk><unk><unk><unk><unk><unk><unk><unk><unk><unk><unk><unk><unk><unk><unk><unk><unk><unk><unk><unk><unk><unk><unk><unk><unk><unk><unk><unk><unk><unk><unk><unk><unk><unk><unk><unk><unk><unk><unk><unk><unk><unk><unk><unk><unk><unk><unk><unk><unk><unk><unk><unk><unk><unk><unk><unk><unk><unk><unk><unk><unk><unk><unk><unk><unk><unk><unk><unk><unk><unk><unk><unk><unk><unk><unk><unk><unk><unk><unk><unk><unk><unk><unk><unk><unk><unk><unk><unk><unk><unk><unk><unk><unk><unk><unk><unk><unk><unk><unk><unk><unk><unk><unk><unk><unk><unk><unk><unk><unk><unk><unk><unk><unk><unk><unk><unk><unk><unk><unk><unk><unk><unk><unk><unk><unk><unk><unk><unk><unk><unk><unk><unk><unk><unk><unk><unk><unk> \n",
      "    <|im_end|> <|im_start|> assistant\n",
      "     Someone is playing a Theremin on a very high pitch going up in pitch and with a lot of vibrato. This song may be playing at home while enjoying your instrument.\n"
     ]
    },
    {
     "data": {
      "text/html": [
       "\n",
       "                <audio  controls=\"controls\" >\n",
       "                    <source src=\"data:audio/mpeg;base64,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\" type=\"audio/mpeg\" />\n",
       "                    Your browser does not support the audio element.\n",
       "                </audio>\n",
       "              "
      ],
      "text/plain": [
       "<IPython.lib.display.Audio object>"
      ]
     },
     "execution_count": 64,
     "metadata": {},
     "output_type": "execute_result"
    }
   ],
   "source": [
    "local_batch = next(datagen)\n",
    "audio_file = local_batch[\"_id\"][0][0]\n",
    "\n",
    "print(tokenizer.decode(local_batch[\"input_ids_raw\"][0]))\n",
    "Audio(audio_file)"
   ]
  },
  {
   "cell_type": "code",
   "execution_count": 56,
   "id": "5efdf14a",
   "metadata": {},
   "outputs": [
    {
     "data": {
      "text/plain": [
       "_IncompatibleKeys(missing_keys=['base_model.model.model.embed_tokens.weight', 'base_model.model.model.layers.0.self_attn.q_proj.base_layer.weight', 'base_model.model.model.layers.0.self_attn.k_proj.base_layer.weight', 'base_model.model.model.layers.0.self_attn.v_proj.base_layer.weight', 'base_model.model.model.layers.0.self_attn.o_proj.weight', 'base_model.model.model.layers.0.mlp.gate_proj.base_layer.weight', 'base_model.model.model.layers.0.mlp.up_proj.base_layer.weight', 'base_model.model.model.layers.0.mlp.down_proj.base_layer.weight', 'base_model.model.model.layers.0.input_layernorm.weight', 'base_model.model.model.layers.0.post_attention_layernorm.weight', 'base_model.model.model.layers.1.self_attn.q_proj.base_layer.weight', 'base_model.model.model.layers.1.self_attn.k_proj.base_layer.weight', 'base_model.model.model.layers.1.self_attn.v_proj.base_layer.weight', 'base_model.model.model.layers.1.self_attn.o_proj.weight', 'base_model.model.model.layers.1.mlp.gate_proj.base_layer.weight', 'base_model.model.model.layers.1.mlp.up_proj.base_layer.weight', 'base_model.model.model.layers.1.mlp.down_proj.base_layer.weight', 'base_model.model.model.layers.1.input_layernorm.weight', 'base_model.model.model.layers.1.post_attention_layernorm.weight', 'base_model.model.model.layers.2.self_attn.q_proj.base_layer.weight', 'base_model.model.model.layers.2.self_attn.k_proj.base_layer.weight', 'base_model.model.model.layers.2.self_attn.v_proj.base_layer.weight', 'base_model.model.model.layers.2.self_attn.o_proj.weight', 'base_model.model.model.layers.2.mlp.gate_proj.base_layer.weight', 'base_model.model.model.layers.2.mlp.up_proj.base_layer.weight', 'base_model.model.model.layers.2.mlp.down_proj.base_layer.weight', 'base_model.model.model.layers.2.input_layernorm.weight', 'base_model.model.model.layers.2.post_attention_layernorm.weight', 'base_model.model.model.layers.3.self_attn.q_proj.base_layer.weight', 'base_model.model.model.layers.3.self_attn.k_proj.base_layer.weight', 'base_model.model.model.layers.3.self_attn.v_proj.base_layer.weight', 'base_model.model.model.layers.3.self_attn.o_proj.weight', 'base_model.model.model.layers.3.mlp.gate_proj.base_layer.weight', 'base_model.model.model.layers.3.mlp.up_proj.base_layer.weight', 'base_model.model.model.layers.3.mlp.down_proj.base_layer.weight', 'base_model.model.model.layers.3.input_layernorm.weight', 'base_model.model.model.layers.3.post_attention_layernorm.weight', 'base_model.model.model.layers.4.self_attn.q_proj.base_layer.weight', 'base_model.model.model.layers.4.self_attn.k_proj.base_layer.weight', 'base_model.model.model.layers.4.self_attn.v_proj.base_layer.weight', 'base_model.model.model.layers.4.self_attn.o_proj.weight', 'base_model.model.model.layers.4.mlp.gate_proj.base_layer.weight', 'base_model.model.model.layers.4.mlp.up_proj.base_layer.weight', 'base_model.model.model.layers.4.mlp.down_proj.base_layer.weight', 'base_model.model.model.layers.4.input_layernorm.weight', 'base_model.model.model.layers.4.post_attention_layernorm.weight', 'base_model.model.model.layers.5.self_attn.q_proj.base_layer.weight', 'base_model.model.model.layers.5.self_attn.k_proj.base_layer.weight', 'base_model.model.model.layers.5.self_attn.v_proj.base_layer.weight', 'base_model.model.model.layers.5.self_attn.o_proj.weight', 'base_model.model.model.layers.5.mlp.gate_proj.base_layer.weight', 'base_model.model.model.layers.5.mlp.up_proj.base_layer.weight', 'base_model.model.model.layers.5.mlp.down_proj.base_layer.weight', 'base_model.model.model.layers.5.input_layernorm.weight', 'base_model.model.model.layers.5.post_attention_layernorm.weight', 'base_model.model.model.layers.6.self_attn.q_proj.base_layer.weight', 'base_model.model.model.layers.6.self_attn.k_proj.base_layer.weight', 'base_model.model.model.layers.6.self_attn.v_proj.base_layer.weight', 'base_model.model.model.layers.6.self_attn.o_proj.weight', 'base_model.model.model.layers.6.mlp.gate_proj.base_layer.weight', 'base_model.model.model.layers.6.mlp.up_proj.base_layer.weight', 'base_model.model.model.layers.6.mlp.down_proj.base_layer.weight', 'base_model.model.model.layers.6.input_layernorm.weight', 'base_model.model.model.layers.6.post_attention_layernorm.weight', 'base_model.model.model.layers.7.self_attn.q_proj.base_layer.weight', 'base_model.model.model.layers.7.self_attn.k_proj.base_layer.weight', 'base_model.model.model.layers.7.self_attn.v_proj.base_layer.weight', 'base_model.model.model.layers.7.self_attn.o_proj.weight', 'base_model.model.model.layers.7.mlp.gate_proj.base_layer.weight', 'base_model.model.model.layers.7.mlp.up_proj.base_layer.weight', 'base_model.model.model.layers.7.mlp.down_proj.base_layer.weight', 'base_model.model.model.layers.7.input_layernorm.weight', 'base_model.model.model.layers.7.post_attention_layernorm.weight', 'base_model.model.model.layers.8.self_attn.q_proj.base_layer.weight', 'base_model.model.model.layers.8.self_attn.k_proj.base_layer.weight', 'base_model.model.model.layers.8.self_attn.v_proj.base_layer.weight', 'base_model.model.model.layers.8.self_attn.o_proj.weight', 'base_model.model.model.layers.8.mlp.gate_proj.base_layer.weight', 'base_model.model.model.layers.8.mlp.up_proj.base_layer.weight', 'base_model.model.model.layers.8.mlp.down_proj.base_layer.weight', 'base_model.model.model.layers.8.input_layernorm.weight', 'base_model.model.model.layers.8.post_attention_layernorm.weight', 'base_model.model.model.layers.9.self_attn.q_proj.base_layer.weight', 'base_model.model.model.layers.9.self_attn.k_proj.base_layer.weight', 'base_model.model.model.layers.9.self_attn.v_proj.base_layer.weight', 'base_model.model.model.layers.9.self_attn.o_proj.weight', 'base_model.model.model.layers.9.mlp.gate_proj.base_layer.weight', 'base_model.model.model.layers.9.mlp.up_proj.base_layer.weight', 'base_model.model.model.layers.9.mlp.down_proj.base_layer.weight', 'base_model.model.model.layers.9.input_layernorm.weight', 'base_model.model.model.layers.9.post_attention_layernorm.weight', 'base_model.model.model.layers.10.self_attn.q_proj.base_layer.weight', 'base_model.model.model.layers.10.self_attn.k_proj.base_layer.weight', 'base_model.model.model.layers.10.self_attn.v_proj.base_layer.weight', 'base_model.model.model.layers.10.self_attn.o_proj.weight', 'base_model.model.model.layers.10.mlp.gate_proj.base_layer.weight', 'base_model.model.model.layers.10.mlp.up_proj.base_layer.weight', 'base_model.model.model.layers.10.mlp.down_proj.base_layer.weight', 'base_model.model.model.layers.10.input_layernorm.weight', 'base_model.model.model.layers.10.post_attention_layernorm.weight', 'base_model.model.model.layers.11.self_attn.q_proj.base_layer.weight', 'base_model.model.model.layers.11.self_attn.k_proj.base_layer.weight', 'base_model.model.model.layers.11.self_attn.v_proj.base_layer.weight', 'base_model.model.model.layers.11.self_attn.o_proj.weight', 'base_model.model.model.layers.11.mlp.gate_proj.base_layer.weight', 'base_model.model.model.layers.11.mlp.up_proj.base_layer.weight', 'base_model.model.model.layers.11.mlp.down_proj.base_layer.weight', 'base_model.model.model.layers.11.input_layernorm.weight', 'base_model.model.model.layers.11.post_attention_layernorm.weight', 'base_model.model.model.layers.12.self_attn.q_proj.base_layer.weight', 'base_model.model.model.layers.12.self_attn.k_proj.base_layer.weight', 'base_model.model.model.layers.12.self_attn.v_proj.base_layer.weight', 'base_model.model.model.layers.12.self_attn.o_proj.weight', 'base_model.model.model.layers.12.mlp.gate_proj.base_layer.weight', 'base_model.model.model.layers.12.mlp.up_proj.base_layer.weight', 'base_model.model.model.layers.12.mlp.down_proj.base_layer.weight', 'base_model.model.model.layers.12.input_layernorm.weight', 'base_model.model.model.layers.12.post_attention_layernorm.weight', 'base_model.model.model.layers.13.self_attn.q_proj.base_layer.weight', 'base_model.model.model.layers.13.self_attn.k_proj.base_layer.weight', 'base_model.model.model.layers.13.self_attn.v_proj.base_layer.weight', 'base_model.model.model.layers.13.self_attn.o_proj.weight', 'base_model.model.model.layers.13.mlp.gate_proj.base_layer.weight', 'base_model.model.model.layers.13.mlp.up_proj.base_layer.weight', 'base_model.model.model.layers.13.mlp.down_proj.base_layer.weight', 'base_model.model.model.layers.13.input_layernorm.weight', 'base_model.model.model.layers.13.post_attention_layernorm.weight', 'base_model.model.model.layers.14.self_attn.q_proj.base_layer.weight', 'base_model.model.model.layers.14.self_attn.k_proj.base_layer.weight', 'base_model.model.model.layers.14.self_attn.v_proj.base_layer.weight', 'base_model.model.model.layers.14.self_attn.o_proj.weight', 'base_model.model.model.layers.14.mlp.gate_proj.base_layer.weight', 'base_model.model.model.layers.14.mlp.up_proj.base_layer.weight', 'base_model.model.model.layers.14.mlp.down_proj.base_layer.weight', 'base_model.model.model.layers.14.input_layernorm.weight', 'base_model.model.model.layers.14.post_attention_layernorm.weight', 'base_model.model.model.layers.15.self_attn.q_proj.base_layer.weight', 'base_model.model.model.layers.15.self_attn.k_proj.base_layer.weight', 'base_model.model.model.layers.15.self_attn.v_proj.base_layer.weight', 'base_model.model.model.layers.15.self_attn.o_proj.weight', 'base_model.model.model.layers.15.mlp.gate_proj.base_layer.weight', 'base_model.model.model.layers.15.mlp.up_proj.base_layer.weight', 'base_model.model.model.layers.15.mlp.down_proj.base_layer.weight', 'base_model.model.model.layers.15.input_layernorm.weight', 'base_model.model.model.layers.15.post_attention_layernorm.weight', 'base_model.model.model.layers.16.self_attn.q_proj.base_layer.weight', 'base_model.model.model.layers.16.self_attn.k_proj.base_layer.weight', 'base_model.model.model.layers.16.self_attn.v_proj.base_layer.weight', 'base_model.model.model.layers.16.self_attn.o_proj.weight', 'base_model.model.model.layers.16.mlp.gate_proj.base_layer.weight', 'base_model.model.model.layers.16.mlp.up_proj.base_layer.weight', 'base_model.model.model.layers.16.mlp.down_proj.base_layer.weight', 'base_model.model.model.layers.16.input_layernorm.weight', 'base_model.model.model.layers.16.post_attention_layernorm.weight', 'base_model.model.model.layers.17.self_attn.q_proj.base_layer.weight', 'base_model.model.model.layers.17.self_attn.k_proj.base_layer.weight', 'base_model.model.model.layers.17.self_attn.v_proj.base_layer.weight', 'base_model.model.model.layers.17.self_attn.o_proj.weight', 'base_model.model.model.layers.17.mlp.gate_proj.base_layer.weight', 'base_model.model.model.layers.17.mlp.up_proj.base_layer.weight', 'base_model.model.model.layers.17.mlp.down_proj.base_layer.weight', 'base_model.model.model.layers.17.input_layernorm.weight', 'base_model.model.model.layers.17.post_attention_layernorm.weight', 'base_model.model.model.layers.18.self_attn.q_proj.base_layer.weight', 'base_model.model.model.layers.18.self_attn.k_proj.base_layer.weight', 'base_model.model.model.layers.18.self_attn.v_proj.base_layer.weight', 'base_model.model.model.layers.18.self_attn.o_proj.weight', 'base_model.model.model.layers.18.mlp.gate_proj.base_layer.weight', 'base_model.model.model.layers.18.mlp.up_proj.base_layer.weight', 'base_model.model.model.layers.18.mlp.down_proj.base_layer.weight', 'base_model.model.model.layers.18.input_layernorm.weight', 'base_model.model.model.layers.18.post_attention_layernorm.weight', 'base_model.model.model.layers.19.self_attn.q_proj.base_layer.weight', 'base_model.model.model.layers.19.self_attn.k_proj.base_layer.weight', 'base_model.model.model.layers.19.self_attn.v_proj.base_layer.weight', 'base_model.model.model.layers.19.self_attn.o_proj.weight', 'base_model.model.model.layers.19.mlp.gate_proj.base_layer.weight', 'base_model.model.model.layers.19.mlp.up_proj.base_layer.weight', 'base_model.model.model.layers.19.mlp.down_proj.base_layer.weight', 'base_model.model.model.layers.19.input_layernorm.weight', 'base_model.model.model.layers.19.post_attention_layernorm.weight', 'base_model.model.model.layers.20.self_attn.q_proj.base_layer.weight', 'base_model.model.model.layers.20.self_attn.k_proj.base_layer.weight', 'base_model.model.model.layers.20.self_attn.v_proj.base_layer.weight', 'base_model.model.model.layers.20.self_attn.o_proj.weight', 'base_model.model.model.layers.20.mlp.gate_proj.base_layer.weight', 'base_model.model.model.layers.20.mlp.up_proj.base_layer.weight', 'base_model.model.model.layers.20.mlp.down_proj.base_layer.weight', 'base_model.model.model.layers.20.input_layernorm.weight', 'base_model.model.model.layers.20.post_attention_layernorm.weight', 'base_model.model.model.layers.21.self_attn.q_proj.base_layer.weight', 'base_model.model.model.layers.21.self_attn.k_proj.base_layer.weight', 'base_model.model.model.layers.21.self_attn.v_proj.base_layer.weight', 'base_model.model.model.layers.21.self_attn.o_proj.weight', 'base_model.model.model.layers.21.mlp.gate_proj.base_layer.weight', 'base_model.model.model.layers.21.mlp.up_proj.base_layer.weight', 'base_model.model.model.layers.21.mlp.down_proj.base_layer.weight', 'base_model.model.model.layers.21.input_layernorm.weight', 'base_model.model.model.layers.21.post_attention_layernorm.weight', 'base_model.model.model.layers.22.self_attn.q_proj.base_layer.weight', 'base_model.model.model.layers.22.self_attn.k_proj.base_layer.weight', 'base_model.model.model.layers.22.self_attn.v_proj.base_layer.weight', 'base_model.model.model.layers.22.self_attn.o_proj.weight', 'base_model.model.model.layers.22.mlp.gate_proj.base_layer.weight', 'base_model.model.model.layers.22.mlp.up_proj.base_layer.weight', 'base_model.model.model.layers.22.mlp.down_proj.base_layer.weight', 'base_model.model.model.layers.22.input_layernorm.weight', 'base_model.model.model.layers.22.post_attention_layernorm.weight', 'base_model.model.model.layers.23.self_attn.q_proj.base_layer.weight', 'base_model.model.model.layers.23.self_attn.k_proj.base_layer.weight', 'base_model.model.model.layers.23.self_attn.v_proj.base_layer.weight', 'base_model.model.model.layers.23.self_attn.o_proj.weight', 'base_model.model.model.layers.23.mlp.gate_proj.base_layer.weight', 'base_model.model.model.layers.23.mlp.up_proj.base_layer.weight', 'base_model.model.model.layers.23.mlp.down_proj.base_layer.weight', 'base_model.model.model.layers.23.input_layernorm.weight', 'base_model.model.model.layers.23.post_attention_layernorm.weight', 'base_model.model.model.layers.24.self_attn.q_proj.base_layer.weight', 'base_model.model.model.layers.24.self_attn.k_proj.base_layer.weight', 'base_model.model.model.layers.24.self_attn.v_proj.base_layer.weight', 'base_model.model.model.layers.24.self_attn.o_proj.weight', 'base_model.model.model.layers.24.mlp.gate_proj.base_layer.weight', 'base_model.model.model.layers.24.mlp.up_proj.base_layer.weight', 'base_model.model.model.layers.24.mlp.down_proj.base_layer.weight', 'base_model.model.model.layers.24.input_layernorm.weight', 'base_model.model.model.layers.24.post_attention_layernorm.weight', 'base_model.model.model.layers.25.self_attn.q_proj.base_layer.weight', 'base_model.model.model.layers.25.self_attn.k_proj.base_layer.weight', 'base_model.model.model.layers.25.self_attn.v_proj.base_layer.weight', 'base_model.model.model.layers.25.self_attn.o_proj.weight', 'base_model.model.model.layers.25.mlp.gate_proj.base_layer.weight', 'base_model.model.model.layers.25.mlp.up_proj.base_layer.weight', 'base_model.model.model.layers.25.mlp.down_proj.base_layer.weight', 'base_model.model.model.layers.25.input_layernorm.weight', 'base_model.model.model.layers.25.post_attention_layernorm.weight', 'base_model.model.model.layers.26.self_attn.q_proj.base_layer.weight', 'base_model.model.model.layers.26.self_attn.k_proj.base_layer.weight', 'base_model.model.model.layers.26.self_attn.v_proj.base_layer.weight', 'base_model.model.model.layers.26.self_attn.o_proj.weight', 'base_model.model.model.layers.26.mlp.gate_proj.base_layer.weight', 'base_model.model.model.layers.26.mlp.up_proj.base_layer.weight', 'base_model.model.model.layers.26.mlp.down_proj.base_layer.weight', 'base_model.model.model.layers.26.input_layernorm.weight', 'base_model.model.model.layers.26.post_attention_layernorm.weight', 'base_model.model.model.layers.27.self_attn.q_proj.base_layer.weight', 'base_model.model.model.layers.27.self_attn.k_proj.base_layer.weight', 'base_model.model.model.layers.27.self_attn.v_proj.base_layer.weight', 'base_model.model.model.layers.27.self_attn.o_proj.weight', 'base_model.model.model.layers.27.mlp.gate_proj.base_layer.weight', 'base_model.model.model.layers.27.mlp.up_proj.base_layer.weight', 'base_model.model.model.layers.27.mlp.down_proj.base_layer.weight', 'base_model.model.model.layers.27.input_layernorm.weight', 'base_model.model.model.layers.27.post_attention_layernorm.weight', 'base_model.model.model.layers.28.self_attn.q_proj.base_layer.weight', 'base_model.model.model.layers.28.self_attn.k_proj.base_layer.weight', 'base_model.model.model.layers.28.self_attn.v_proj.base_layer.weight', 'base_model.model.model.layers.28.self_attn.o_proj.weight', 'base_model.model.model.layers.28.mlp.gate_proj.base_layer.weight', 'base_model.model.model.layers.28.mlp.up_proj.base_layer.weight', 'base_model.model.model.layers.28.mlp.down_proj.base_layer.weight', 'base_model.model.model.layers.28.input_layernorm.weight', 'base_model.model.model.layers.28.post_attention_layernorm.weight', 'base_model.model.model.layers.29.self_attn.q_proj.base_layer.weight', 'base_model.model.model.layers.29.self_attn.k_proj.base_layer.weight', 'base_model.model.model.layers.29.self_attn.v_proj.base_layer.weight', 'base_model.model.model.layers.29.self_attn.o_proj.weight', 'base_model.model.model.layers.29.mlp.gate_proj.base_layer.weight', 'base_model.model.model.layers.29.mlp.up_proj.base_layer.weight', 'base_model.model.model.layers.29.mlp.down_proj.base_layer.weight', 'base_model.model.model.layers.29.input_layernorm.weight', 'base_model.model.model.layers.29.post_attention_layernorm.weight', 'base_model.model.model.layers.30.self_attn.q_proj.base_layer.weight', 'base_model.model.model.layers.30.self_attn.k_proj.base_layer.weight', 'base_model.model.model.layers.30.self_attn.v_proj.base_layer.weight', 'base_model.model.model.layers.30.self_attn.o_proj.weight', 'base_model.model.model.layers.30.mlp.gate_proj.base_layer.weight', 'base_model.model.model.layers.30.mlp.up_proj.base_layer.weight', 'base_model.model.model.layers.30.mlp.down_proj.base_layer.weight', 'base_model.model.model.layers.30.input_layernorm.weight', 'base_model.model.model.layers.30.post_attention_layernorm.weight', 'base_model.model.model.layers.31.self_attn.q_proj.base_layer.weight', 'base_model.model.model.layers.31.self_attn.k_proj.base_layer.weight', 'base_model.model.model.layers.31.self_attn.v_proj.base_layer.weight', 'base_model.model.model.layers.31.self_attn.o_proj.weight', 'base_model.model.model.layers.31.mlp.gate_proj.base_layer.weight', 'base_model.model.model.layers.31.mlp.up_proj.base_layer.weight', 'base_model.model.model.layers.31.mlp.down_proj.base_layer.weight', 'base_model.model.model.layers.31.input_layernorm.weight', 'base_model.model.model.layers.31.post_attention_layernorm.weight', 'base_model.model.model.norm.weight', 'base_model.model.lm_head.weight'], unexpected_keys=[])"
      ]
     },
     "execution_count": 56,
     "metadata": {},
     "output_type": "execute_result"
    }
   ],
   "source": [
    "model.llm.load_state_dict(torch.load(f\"lora_manual_save{run_num}.pth\"),strict=False)\n"
   ]
  },
  {
   "cell_type": "code",
   "execution_count": null,
   "id": "e66a48a8",
   "metadata": {},
   "outputs": [],
   "source": [
    "modified_ckpts = [{\n",
    "    \"filename\": \"model_best_save6.pth\", # my proj layer from this morning - I think slightly better than blog post\n",
    "    \"use_lora\": True\n",
    "},{\n",
    "    \"filename\": \"../listening-with-llm-3/model_manual_save3.pth\", # the OG checkpoint from the blog post\n",
    "    \"use_lora\": False\n",
    "}]\n",
    "\n",
    "filename = \"model_best_save6.pth\" or \"../listening-with-llm-3/model_manual_save3.pth\"\n",
    "model.audio_encoder.proj.load_state_dict(torch.load(filename),strict=False)\n",
    "model.audio_encoder.proj.use_lora = torch.tensor(False)\n",
    "\n"
   ]
  },
  {
   "cell_type": "code",
   "execution_count": 65,
   "id": "7129f8c8-e67f-42d4-98ad-ac42874a2841",
   "metadata": {},
   "outputs": [
    {
     "name": "stdout",
     "output_type": "stream",
     "text": [
      "<s> <|im_start|>  system\n",
      "    You are a helpful AI who follows instruction carefully<|im_end|> <|im_start|>  user\n",
      "    Describe the sound of the given file \n",
      "    <|im_end|> <|im_start|> assistant\n",
      "     The low quality recording features a theremin solo melody. It sounds spacey and weird, as the recording is noisy. There are some instrument crackling sounds. A ribbon sound effect runs through the recording. It sounds like something you would hear in a sci-fi movie. There are some bells melody themes in the background. This recording is spacey and weird. It seems like a demo for a sci-fi video game. This song may be played in\n",
      "<s> <|im_start|>  system\n",
      "    You are a helpful AI who follows instruction carefully<|im_end|> <|im_start|>  user\n",
      "    Describe the sound of the given file \n",
      "    <|im_end|> <|im_start|> assistant\n",
      "     The low quality recording features a theremin solo melody. It sounds spacey and weird, as the recording is noisy. There are some tinny metallic impacts along with some humming noise. It sounds like something you would hear in a sci-fi movie. Sounds like something Ron would play to. Reverb and some delay might make it better. Sounds like something you would try out in a sound effects studio. There are some aesthetic implications here. This recording could be used\n",
      "<s> <|im_start|>  system\n",
      "    You are a helpful AI who follows instruction carefully<|im_end|> <|im_start|>  user\n",
      "    Describe the sound of the given file \n",
      "    <|im_end|> <|im_start|> assistant\n",
      "     The low quality recording features a theremin solo melody. It sounds spacey and weird, as the recording is noisy. There are some crackling noises in the recording. This recording could be used in a movie scene. It could also be sampled for use in beat-making. There are some Ronalty grooves in this recording. This recording is groovy. This instrumental is very noisy. It sounds like something you would hear in a videogame.\n",
      "<s> <|im_start|>  system\n",
      "    You are a helpful AI who follows instruction carefully<|im_end|> <|im_start|>  user\n",
      "    Describe the sound of the given file \n",
      "    <|im_end|> <|im_start|> assistant\n",
      "     The low quality recording features a theremin solo melody. It sounds spacey and weird, as the recording is noisy. There are some tinny metallic impacts along the way. This recording could go well in an outer space theme movie. It could also be used in a video game. There are some psychotic vibes to it. The recording is a bit noisy. This song may be playing in an outer space video game. It could also be used in an\n",
      "<s> <|im_start|>  system\n",
      "    You are a helpful AI who follows instruction carefully<|im_end|> <|im_start|>  user\n",
      "    Describe the sound of the given file \n",
      "    <|im_end|> <|im_start|> assistant\n",
      "     The low quality recording features a theremin solo melody. It sounds sad, emotional and passionate. The recording is noisy and in mono. There are some crackling noises as well. Sounds like something you would hear in old horror movies. It could be used as an intro section for a horror movie. It could also be used in therapies to help deal with anxiety and cannabis addiction. The recording is emotional and sad. There are some crackling noises and a t\n"
     ]
    }
   ],
   "source": [
    "from src2.voixdb.util import sample_with_audio\n",
    "for i in range(5):\n",
    "    print(tokenizer.decode(sample_with_audio(model, llm, tokenizer, prompt_template_fn(), audio_file, iteration=100)[0]))"
   ]
  },
  {
   "cell_type": "code",
   "execution_count": 38,
   "id": "f51a4a23-8337-4f99-9e5d-e70f119692b6",
   "metadata": {},
   "outputs": [],
   "source": [
    "import torch\n",
    "import whisper\n",
    "\n",
    "def prompt_template_fn(prompt=\"Describe the sound of the given file\"):\n",
    "    system_message = \"You are a helpful AI who follows instruction carefully\"\n",
    "\n",
    "    prompt_prefix = f\"\"\"<|im_start|>system\n",
    "    {system_message}<|im_end|>\n",
    "    <|im_start|>user\n",
    "    {prompt}\"\"\"\n",
    "\n",
    "    return prompt_prefix\n",
    "\n",
    "\n",
    "def end_template():\n",
    "    return \"\"\"\n",
    "    <|im_end|>\n",
    "    <|im_start|>assistant\n",
    "    \"\"\"\n",
    "\n",
    "\n",
    "def load_audio_mels(file):\n",
    "    audio = whisper.load_audio(file)\n",
    "    audio = whisper.pad_or_trim(audio)\n",
    "    audio_mels = whisper.log_mel_spectrogram(audio, n_mels=128)\n",
    "    audio_mels = audio_mels.unsqueeze(0)\n",
    "    return audio_mels\n",
    "\n",
    "\n",
    "def text_2_ids_and_attention_mask(tokenizer, input_txt, truncate=False):\n",
    "    txt = input_txt\n",
    "    res = tokenizer(txt, return_tensors=\"pt\")\n",
    "\n",
    "    if truncate:\n",
    "        return res.input_ids[:, 1:], res.attention_mask[:, 1:]\n",
    "\n",
    "    return res.input_ids, res.attention_mask\n",
    "\n",
    "@torch.no_grad()\n",
    "def sample_with_audio(model, tokenizer, prompt, audio_file, device=\"cuda:0\", iteration=50):\n",
    "    audio_mels = load_audio_mels(audio_file).to(device).half()\n",
    "    end_prompt_ids, end_prompt_attention_mask = text_2_ids_and_attention_mask(\n",
    "        tokenizer,\n",
    "        end_template(),\n",
    "        truncate=True,\n",
    "    )\n",
    "    prompt_ids, prompt_attention_mask = text_2_ids_and_attention_mask(\n",
    "        tokenizer,\n",
    "        prompt,\n",
    "    )\n",
    "\n",
    "    prompt_ids = prompt_ids.to(device)\n",
    "    prompt_attention_mask = prompt_attention_mask.to(device)\n",
    "    end_prompt_attention_mask = end_prompt_attention_mask.to(device)\n",
    "    end_prompt_ids = end_prompt_ids.to(device)\n",
    "    sampled_ids = None\n",
    "\n",
    "    prompt_embeds = None\n",
    "    end_prompt_embeds = None\n",
    "    audio_embeds = None\n",
    "\n",
    "    with torch.amp.autocast(device_type=\"cuda\", dtype=torch.float16):\n",
    "        if audio_embeds is None:\n",
    "            audio_embeds = model.audio_encoder(audio_mels)\n",
    "        bs, audio_seq = audio_embeds.shape[:2]\n",
    "        \n",
    "        mask_concat_args = [\n",
    "            prompt_attention_mask,\n",
    "            torch.ones(bs, audio_seq).to(audio_embeds.device),\n",
    "            end_prompt_attention_mask,\n",
    "        ]\n",
    "\n",
    "        for _ in range(iteration):\n",
    "            if sampled_ids is not None:\n",
    "                mask_concat_args.append(torch.ones(bs, sampled_ids.shape[1]).to(audio_embeds.device))\n",
    "                \n",
    "            attention_mask = torch.concat(\n",
    "                tuple(mask_concat_args),\n",
    "                dim=1,\n",
    "            )\n",
    "\n",
    "            if prompt_embeds is None:\n",
    "                prompt_embeds = model.llm.model.embed_tokens(prompt_ids)\n",
    "            if end_prompt_embeds is None:\n",
    "                end_prompt_embeds = model.llm.model.embed_tokens(end_prompt_ids)\n",
    "                \n",
    "            sampled_ids_embeds = None\n",
    "            if sampled_ids is not None:\n",
    "                sampled_ids_embeds = model.llm.model.embed_tokens(sampled_ids)\n",
    "                \n",
    "            embeds_concat_args = [\n",
    "                prompt_embeds,\n",
    "                audio_embeds.to(prompt_embeds.dtype),\n",
    "                end_prompt_embeds,\n",
    "            ]\n",
    "            if sampled_ids_embeds is not None:\n",
    "                embeds_concat_args.append(sampled_ids_embeds)\n",
    "                \n",
    "            inputs_embeds = torch.concat(\n",
    "                tuple(embeds_concat_args),\n",
    "                dim=1,\n",
    "            )\n",
    "    \n",
    "            mout = model.llm(\n",
    "                inputs_embeds=inputs_embeds,\n",
    "                attention_mask=attention_mask,\n",
    "            )\n",
    "    \n",
    "            logits = mout.logits\n",
    "            sampled = torch.multinomial(logits[:, -1, :].softmax(dim=-1), 1)\n",
    "            \n",
    "            if sampled_ids is None:\n",
    "                sampled_ids = sampled\n",
    "            else:\n",
    "                sampled_ids = torch.cat((sampled_ids, sampled), dim=-1).to(device)\n",
    "\n",
    "    # print(prompt_ids.shape)\n",
    "    # print(end_prompt_ids.shape)\n",
    "    # print(sampled_ids.shape)\n",
    "    \n",
    "    return torch.concat((\n",
    "        prompt_ids, \n",
    "        end_prompt_ids,\n",
    "        sampled_ids,\n",
    "    ),dim=-1)\n"
   ]
  }
 ],
 "metadata": {
  "kernelspec": {
   "display_name": "Python 3 (ipykernel)",
   "language": "python",
   "name": "python3"
  },
  "language_info": {
   "codemirror_mode": {
    "name": "ipython",
    "version": 3
   },
   "file_extension": ".py",
   "mimetype": "text/x-python",
   "name": "python",
   "nbconvert_exporter": "python",
   "pygments_lexer": "ipython3",
   "version": "3.10.13"
  }
 },
 "nbformat": 4,
 "nbformat_minor": 5
}
